{
 "cells": [
  {
   "cell_type": "markdown",
   "metadata": {},
   "source": [
    "# Health Insurance Claims Prediction"
   ]
  },
  {
   "cell_type": "markdown",
   "metadata": {},
   "source": [
    "# Section-1 : Exploratory Data Analysis (EDA)"
   ]
  },
  {
   "cell_type": "code",
   "execution_count": 167,
   "metadata": {},
   "outputs": [],
   "source": [
    "#Importing necessary Libraries & Packages.\n",
    "import pandas as pd\n",
    "import numpy as np\n",
    "from sklearn import metrics\n",
    "import seaborn as sns\n",
    "import matplotlib.pyplot as plt"
   ]
  },
  {
   "cell_type": "code",
   "execution_count": 168,
   "metadata": {},
   "outputs": [],
   "source": [
    "# Importing the dataset.\n",
    "data_complete = pd.read_csv(\"C:/Users/rahul/Desktop/CapstoneFinal/insurance_data.csv\")"
   ]
  },
  {
   "cell_type": "code",
   "execution_count": 169,
   "metadata": {},
   "outputs": [
    {
     "data": {
      "text/html": [
       "<div>\n",
       "<style scoped>\n",
       "    .dataframe tbody tr th:only-of-type {\n",
       "        vertical-align: middle;\n",
       "    }\n",
       "\n",
       "    .dataframe tbody tr th {\n",
       "        vertical-align: top;\n",
       "    }\n",
       "\n",
       "    .dataframe thead th {\n",
       "        text-align: right;\n",
       "    }\n",
       "</style>\n",
       "<table border=\"1\" class=\"dataframe\">\n",
       "  <thead>\n",
       "    <tr style=\"text-align: right;\">\n",
       "      <th></th>\n",
       "      <th>age</th>\n",
       "      <th>sex</th>\n",
       "      <th>bmi</th>\n",
       "      <th>steps</th>\n",
       "      <th>children</th>\n",
       "      <th>smoker</th>\n",
       "      <th>region</th>\n",
       "      <th>charges</th>\n",
       "      <th>insuranceclaim</th>\n",
       "    </tr>\n",
       "  </thead>\n",
       "  <tbody>\n",
       "    <tr>\n",
       "      <th>0</th>\n",
       "      <td>19</td>\n",
       "      <td>female</td>\n",
       "      <td>27.900</td>\n",
       "      <td>3009</td>\n",
       "      <td>0</td>\n",
       "      <td>yes</td>\n",
       "      <td>southwest</td>\n",
       "      <td>16884.92400</td>\n",
       "      <td>1</td>\n",
       "    </tr>\n",
       "    <tr>\n",
       "      <th>1</th>\n",
       "      <td>18</td>\n",
       "      <td>male</td>\n",
       "      <td>33.770</td>\n",
       "      <td>3008</td>\n",
       "      <td>1</td>\n",
       "      <td>no</td>\n",
       "      <td>southeast</td>\n",
       "      <td>1725.55230</td>\n",
       "      <td>1</td>\n",
       "    </tr>\n",
       "    <tr>\n",
       "      <th>2</th>\n",
       "      <td>28</td>\n",
       "      <td>male</td>\n",
       "      <td>33.000</td>\n",
       "      <td>3009</td>\n",
       "      <td>3</td>\n",
       "      <td>no</td>\n",
       "      <td>southeast</td>\n",
       "      <td>4449.46200</td>\n",
       "      <td>0</td>\n",
       "    </tr>\n",
       "    <tr>\n",
       "      <th>3</th>\n",
       "      <td>33</td>\n",
       "      <td>male</td>\n",
       "      <td>22.705</td>\n",
       "      <td>10009</td>\n",
       "      <td>0</td>\n",
       "      <td>no</td>\n",
       "      <td>northwest</td>\n",
       "      <td>21984.47061</td>\n",
       "      <td>0</td>\n",
       "    </tr>\n",
       "    <tr>\n",
       "      <th>4</th>\n",
       "      <td>32</td>\n",
       "      <td>male</td>\n",
       "      <td>28.880</td>\n",
       "      <td>8010</td>\n",
       "      <td>0</td>\n",
       "      <td>no</td>\n",
       "      <td>northwest</td>\n",
       "      <td>3866.85520</td>\n",
       "      <td>1</td>\n",
       "    </tr>\n",
       "  </tbody>\n",
       "</table>\n",
       "</div>"
      ],
      "text/plain": [
       "   age     sex     bmi  steps  children smoker     region      charges  \\\n",
       "0   19  female  27.900   3009         0    yes  southwest  16884.92400   \n",
       "1   18    male  33.770   3008         1     no  southeast   1725.55230   \n",
       "2   28    male  33.000   3009         3     no  southeast   4449.46200   \n",
       "3   33    male  22.705  10009         0     no  northwest  21984.47061   \n",
       "4   32    male  28.880   8010         0     no  northwest   3866.85520   \n",
       "\n",
       "   insuranceclaim  \n",
       "0               1  \n",
       "1               1  \n",
       "2               0  \n",
       "3               0  \n",
       "4               1  "
      ]
     },
     "execution_count": 169,
     "metadata": {},
     "output_type": "execute_result"
    }
   ],
   "source": [
    "# Describing the data.\n",
    "data_complete.head()"
   ]
  },
  {
   "cell_type": "code",
   "execution_count": 170,
   "metadata": {},
   "outputs": [
    {
     "data": {
      "text/html": [
       "<div>\n",
       "<style scoped>\n",
       "    .dataframe tbody tr th:only-of-type {\n",
       "        vertical-align: middle;\n",
       "    }\n",
       "\n",
       "    .dataframe tbody tr th {\n",
       "        vertical-align: top;\n",
       "    }\n",
       "\n",
       "    .dataframe thead th {\n",
       "        text-align: right;\n",
       "    }\n",
       "</style>\n",
       "<table border=\"1\" class=\"dataframe\">\n",
       "  <thead>\n",
       "    <tr style=\"text-align: right;\">\n",
       "      <th></th>\n",
       "      <th>age</th>\n",
       "      <th>sex</th>\n",
       "      <th>bmi</th>\n",
       "      <th>steps</th>\n",
       "      <th>children</th>\n",
       "      <th>smoker</th>\n",
       "      <th>region</th>\n",
       "      <th>charges</th>\n",
       "      <th>insuranceclaim</th>\n",
       "    </tr>\n",
       "  </thead>\n",
       "  <tbody>\n",
       "    <tr>\n",
       "      <th>1333</th>\n",
       "      <td>50</td>\n",
       "      <td>male</td>\n",
       "      <td>30.97</td>\n",
       "      <td>4008</td>\n",
       "      <td>3</td>\n",
       "      <td>no</td>\n",
       "      <td>northwest</td>\n",
       "      <td>10600.5483</td>\n",
       "      <td>0</td>\n",
       "    </tr>\n",
       "    <tr>\n",
       "      <th>1334</th>\n",
       "      <td>18</td>\n",
       "      <td>female</td>\n",
       "      <td>31.92</td>\n",
       "      <td>3003</td>\n",
       "      <td>0</td>\n",
       "      <td>no</td>\n",
       "      <td>northeast</td>\n",
       "      <td>2205.9808</td>\n",
       "      <td>1</td>\n",
       "    </tr>\n",
       "    <tr>\n",
       "      <th>1335</th>\n",
       "      <td>18</td>\n",
       "      <td>female</td>\n",
       "      <td>36.85</td>\n",
       "      <td>3008</td>\n",
       "      <td>0</td>\n",
       "      <td>no</td>\n",
       "      <td>southeast</td>\n",
       "      <td>1629.8335</td>\n",
       "      <td>1</td>\n",
       "    </tr>\n",
       "    <tr>\n",
       "      <th>1336</th>\n",
       "      <td>21</td>\n",
       "      <td>female</td>\n",
       "      <td>25.80</td>\n",
       "      <td>8009</td>\n",
       "      <td>0</td>\n",
       "      <td>no</td>\n",
       "      <td>southwest</td>\n",
       "      <td>2007.9450</td>\n",
       "      <td>0</td>\n",
       "    </tr>\n",
       "    <tr>\n",
       "      <th>1337</th>\n",
       "      <td>61</td>\n",
       "      <td>female</td>\n",
       "      <td>29.07</td>\n",
       "      <td>8008</td>\n",
       "      <td>0</td>\n",
       "      <td>yes</td>\n",
       "      <td>northwest</td>\n",
       "      <td>29141.3603</td>\n",
       "      <td>1</td>\n",
       "    </tr>\n",
       "  </tbody>\n",
       "</table>\n",
       "</div>"
      ],
      "text/plain": [
       "      age     sex    bmi  steps  children smoker     region     charges  \\\n",
       "1333   50    male  30.97   4008         3     no  northwest  10600.5483   \n",
       "1334   18  female  31.92   3003         0     no  northeast   2205.9808   \n",
       "1335   18  female  36.85   3008         0     no  southeast   1629.8335   \n",
       "1336   21  female  25.80   8009         0     no  southwest   2007.9450   \n",
       "1337   61  female  29.07   8008         0    yes  northwest  29141.3603   \n",
       "\n",
       "      insuranceclaim  \n",
       "1333               0  \n",
       "1334               1  \n",
       "1335               1  \n",
       "1336               0  \n",
       "1337               1  "
      ]
     },
     "execution_count": 170,
     "metadata": {},
     "output_type": "execute_result"
    }
   ],
   "source": [
    "# Describing the data.\n",
    "data_complete.tail()"
   ]
  },
  {
   "cell_type": "code",
   "execution_count": 171,
   "metadata": {},
   "outputs": [
    {
     "data": {
      "text/plain": [
       "(1338, 9)"
      ]
     },
     "execution_count": 171,
     "metadata": {},
     "output_type": "execute_result"
    }
   ],
   "source": [
    "# Describing the dimension of the data.\n",
    "data_complete.shape"
   ]
  },
  {
   "cell_type": "code",
   "execution_count": 172,
   "metadata": {},
   "outputs": [
    {
     "name": "stdout",
     "output_type": "stream",
     "text": [
      "\n",
      "Number of Rows available in the dataset :  1338\n",
      "\n",
      "Number of Columns available in the dataset :  9\n"
     ]
    }
   ],
   "source": [
    "print(\"\\nNumber of Rows available in the dataset : \",data_complete.shape[0])\n",
    "print(\"\\nNumber of Columns available in the dataset : \",data_complete.shape[1])"
   ]
  },
  {
   "cell_type": "code",
   "execution_count": 173,
   "metadata": {},
   "outputs": [
    {
     "name": "stdout",
     "output_type": "stream",
     "text": [
      "<class 'pandas.core.frame.DataFrame'>\n",
      "RangeIndex: 1338 entries, 0 to 1337\n",
      "Data columns (total 9 columns):\n",
      " #   Column          Non-Null Count  Dtype  \n",
      "---  ------          --------------  -----  \n",
      " 0   age             1338 non-null   int64  \n",
      " 1   sex             1338 non-null   object \n",
      " 2   bmi             1338 non-null   float64\n",
      " 3   steps           1338 non-null   int64  \n",
      " 4   children        1338 non-null   int64  \n",
      " 5   smoker          1338 non-null   object \n",
      " 6   region          1338 non-null   object \n",
      " 7   charges         1338 non-null   float64\n",
      " 8   insuranceclaim  1338 non-null   int64  \n",
      "dtypes: float64(2), int64(4), object(3)\n",
      "memory usage: 94.2+ KB\n"
     ]
    }
   ],
   "source": [
    "# Evaluating a concise summary of the DataFrame containing the data.\n",
    "data_complete.info()"
   ]
  },
  {
   "cell_type": "code",
   "execution_count": 174,
   "metadata": {},
   "outputs": [
    {
     "data": {
      "text/plain": [
       "age               0\n",
       "sex               0\n",
       "bmi               0\n",
       "steps             0\n",
       "children          0\n",
       "smoker            0\n",
       "region            0\n",
       "charges           0\n",
       "insuranceclaim    0\n",
       "dtype: int64"
      ]
     },
     "execution_count": 174,
     "metadata": {},
     "output_type": "execute_result"
    }
   ],
   "source": [
    "# Checking to see if there is any NULL data.\n",
    "data_complete.isnull().sum()"
   ]
  },
  {
   "cell_type": "code",
   "execution_count": 175,
   "metadata": {},
   "outputs": [
    {
     "data": {
      "text/html": [
       "<div>\n",
       "<style scoped>\n",
       "    .dataframe tbody tr th:only-of-type {\n",
       "        vertical-align: middle;\n",
       "    }\n",
       "\n",
       "    .dataframe tbody tr th {\n",
       "        vertical-align: top;\n",
       "    }\n",
       "\n",
       "    .dataframe thead th {\n",
       "        text-align: right;\n",
       "    }\n",
       "</style>\n",
       "<table border=\"1\" class=\"dataframe\">\n",
       "  <thead>\n",
       "    <tr style=\"text-align: right;\">\n",
       "      <th></th>\n",
       "      <th>age</th>\n",
       "      <th>sex</th>\n",
       "      <th>bmi</th>\n",
       "      <th>steps</th>\n",
       "      <th>children</th>\n",
       "      <th>smoker</th>\n",
       "      <th>region</th>\n",
       "      <th>charges</th>\n",
       "      <th>insuranceclaim</th>\n",
       "    </tr>\n",
       "  </thead>\n",
       "  <tbody>\n",
       "    <tr>\n",
       "      <th>count</th>\n",
       "      <td>1338.000000</td>\n",
       "      <td>1338</td>\n",
       "      <td>1338.000000</td>\n",
       "      <td>1338.000000</td>\n",
       "      <td>1338.000000</td>\n",
       "      <td>1338</td>\n",
       "      <td>1338</td>\n",
       "      <td>1338.000000</td>\n",
       "      <td>1338.000000</td>\n",
       "    </tr>\n",
       "    <tr>\n",
       "      <th>unique</th>\n",
       "      <td>NaN</td>\n",
       "      <td>2</td>\n",
       "      <td>NaN</td>\n",
       "      <td>NaN</td>\n",
       "      <td>NaN</td>\n",
       "      <td>2</td>\n",
       "      <td>4</td>\n",
       "      <td>NaN</td>\n",
       "      <td>NaN</td>\n",
       "    </tr>\n",
       "    <tr>\n",
       "      <th>top</th>\n",
       "      <td>NaN</td>\n",
       "      <td>male</td>\n",
       "      <td>NaN</td>\n",
       "      <td>NaN</td>\n",
       "      <td>NaN</td>\n",
       "      <td>no</td>\n",
       "      <td>southeast</td>\n",
       "      <td>NaN</td>\n",
       "      <td>NaN</td>\n",
       "    </tr>\n",
       "    <tr>\n",
       "      <th>freq</th>\n",
       "      <td>NaN</td>\n",
       "      <td>676</td>\n",
       "      <td>NaN</td>\n",
       "      <td>NaN</td>\n",
       "      <td>NaN</td>\n",
       "      <td>1064</td>\n",
       "      <td>364</td>\n",
       "      <td>NaN</td>\n",
       "      <td>NaN</td>\n",
       "    </tr>\n",
       "    <tr>\n",
       "      <th>mean</th>\n",
       "      <td>39.207025</td>\n",
       "      <td>NaN</td>\n",
       "      <td>30.663397</td>\n",
       "      <td>5328.623318</td>\n",
       "      <td>1.094918</td>\n",
       "      <td>NaN</td>\n",
       "      <td>NaN</td>\n",
       "      <td>13270.422265</td>\n",
       "      <td>0.585202</td>\n",
       "    </tr>\n",
       "    <tr>\n",
       "      <th>std</th>\n",
       "      <td>14.049960</td>\n",
       "      <td>NaN</td>\n",
       "      <td>6.098187</td>\n",
       "      <td>2453.643236</td>\n",
       "      <td>1.205493</td>\n",
       "      <td>NaN</td>\n",
       "      <td>NaN</td>\n",
       "      <td>12110.011237</td>\n",
       "      <td>0.492871</td>\n",
       "    </tr>\n",
       "    <tr>\n",
       "      <th>min</th>\n",
       "      <td>18.000000</td>\n",
       "      <td>NaN</td>\n",
       "      <td>15.960000</td>\n",
       "      <td>3000.000000</td>\n",
       "      <td>0.000000</td>\n",
       "      <td>NaN</td>\n",
       "      <td>NaN</td>\n",
       "      <td>1121.873900</td>\n",
       "      <td>0.000000</td>\n",
       "    </tr>\n",
       "    <tr>\n",
       "      <th>25%</th>\n",
       "      <td>27.000000</td>\n",
       "      <td>NaN</td>\n",
       "      <td>26.296250</td>\n",
       "      <td>3008.000000</td>\n",
       "      <td>0.000000</td>\n",
       "      <td>NaN</td>\n",
       "      <td>NaN</td>\n",
       "      <td>4740.287150</td>\n",
       "      <td>0.000000</td>\n",
       "    </tr>\n",
       "    <tr>\n",
       "      <th>50%</th>\n",
       "      <td>39.000000</td>\n",
       "      <td>NaN</td>\n",
       "      <td>30.400000</td>\n",
       "      <td>4007.000000</td>\n",
       "      <td>1.000000</td>\n",
       "      <td>NaN</td>\n",
       "      <td>NaN</td>\n",
       "      <td>9382.033000</td>\n",
       "      <td>1.000000</td>\n",
       "    </tr>\n",
       "    <tr>\n",
       "      <th>75%</th>\n",
       "      <td>51.000000</td>\n",
       "      <td>NaN</td>\n",
       "      <td>34.693750</td>\n",
       "      <td>8004.000000</td>\n",
       "      <td>2.000000</td>\n",
       "      <td>NaN</td>\n",
       "      <td>NaN</td>\n",
       "      <td>16639.912515</td>\n",
       "      <td>1.000000</td>\n",
       "    </tr>\n",
       "    <tr>\n",
       "      <th>max</th>\n",
       "      <td>64.000000</td>\n",
       "      <td>NaN</td>\n",
       "      <td>53.130000</td>\n",
       "      <td>10010.000000</td>\n",
       "      <td>5.000000</td>\n",
       "      <td>NaN</td>\n",
       "      <td>NaN</td>\n",
       "      <td>63770.428010</td>\n",
       "      <td>1.000000</td>\n",
       "    </tr>\n",
       "  </tbody>\n",
       "</table>\n",
       "</div>"
      ],
      "text/plain": [
       "                age   sex          bmi         steps     children smoker  \\\n",
       "count   1338.000000  1338  1338.000000   1338.000000  1338.000000   1338   \n",
       "unique          NaN     2          NaN           NaN          NaN      2   \n",
       "top             NaN  male          NaN           NaN          NaN     no   \n",
       "freq            NaN   676          NaN           NaN          NaN   1064   \n",
       "mean      39.207025   NaN    30.663397   5328.623318     1.094918    NaN   \n",
       "std       14.049960   NaN     6.098187   2453.643236     1.205493    NaN   \n",
       "min       18.000000   NaN    15.960000   3000.000000     0.000000    NaN   \n",
       "25%       27.000000   NaN    26.296250   3008.000000     0.000000    NaN   \n",
       "50%       39.000000   NaN    30.400000   4007.000000     1.000000    NaN   \n",
       "75%       51.000000   NaN    34.693750   8004.000000     2.000000    NaN   \n",
       "max       64.000000   NaN    53.130000  10010.000000     5.000000    NaN   \n",
       "\n",
       "           region       charges  insuranceclaim  \n",
       "count        1338   1338.000000     1338.000000  \n",
       "unique          4           NaN             NaN  \n",
       "top     southeast           NaN             NaN  \n",
       "freq          364           NaN             NaN  \n",
       "mean          NaN  13270.422265        0.585202  \n",
       "std           NaN  12110.011237        0.492871  \n",
       "min           NaN   1121.873900        0.000000  \n",
       "25%           NaN   4740.287150        0.000000  \n",
       "50%           NaN   9382.033000        1.000000  \n",
       "75%           NaN  16639.912515        1.000000  \n",
       "max           NaN  63770.428010        1.000000  "
      ]
     },
     "execution_count": 175,
     "metadata": {},
     "output_type": "execute_result"
    }
   ],
   "source": [
    "# Computing and displaying the summary statistics of the DataFrame containing the data.\n",
    "data_complete.describe(include='all')"
   ]
  },
  {
   "cell_type": "code",
   "execution_count": 176,
   "metadata": {
    "scrolled": true
   },
   "outputs": [],
   "source": [
    "# Converting the categorical data into numerical data and/or dummy variables.\n",
    "data_complete['sex'].unique()\n",
    "data_complete['sex']=data_complete['sex'].map({'female':0,'male':1})\n",
    "data_complete['smoker']=data_complete['smoker'].map({'yes':1,'no':0})\n",
    "data_complete['region']=data_complete['region'].map({'southwest':1,'southeast':2,'northwest':3,'northeast':4})"
   ]
  },
  {
   "cell_type": "code",
   "execution_count": 19,
   "metadata": {},
   "outputs": [],
   "source": [
    "# Make a detailed note of this in the report!"
   ]
  },
  {
   "cell_type": "code",
   "execution_count": 177,
   "metadata": {},
   "outputs": [
    {
     "data": {
      "text/html": [
       "<div>\n",
       "<style scoped>\n",
       "    .dataframe tbody tr th:only-of-type {\n",
       "        vertical-align: middle;\n",
       "    }\n",
       "\n",
       "    .dataframe tbody tr th {\n",
       "        vertical-align: top;\n",
       "    }\n",
       "\n",
       "    .dataframe thead th {\n",
       "        text-align: right;\n",
       "    }\n",
       "</style>\n",
       "<table border=\"1\" class=\"dataframe\">\n",
       "  <thead>\n",
       "    <tr style=\"text-align: right;\">\n",
       "      <th></th>\n",
       "      <th>age</th>\n",
       "      <th>sex</th>\n",
       "      <th>bmi</th>\n",
       "      <th>steps</th>\n",
       "      <th>children</th>\n",
       "      <th>smoker</th>\n",
       "      <th>region</th>\n",
       "      <th>charges</th>\n",
       "      <th>insuranceclaim</th>\n",
       "    </tr>\n",
       "  </thead>\n",
       "  <tbody>\n",
       "    <tr>\n",
       "      <th>0</th>\n",
       "      <td>19</td>\n",
       "      <td>0</td>\n",
       "      <td>27.900</td>\n",
       "      <td>3009</td>\n",
       "      <td>0</td>\n",
       "      <td>1</td>\n",
       "      <td>1</td>\n",
       "      <td>16884.92400</td>\n",
       "      <td>1</td>\n",
       "    </tr>\n",
       "    <tr>\n",
       "      <th>1</th>\n",
       "      <td>18</td>\n",
       "      <td>1</td>\n",
       "      <td>33.770</td>\n",
       "      <td>3008</td>\n",
       "      <td>1</td>\n",
       "      <td>0</td>\n",
       "      <td>2</td>\n",
       "      <td>1725.55230</td>\n",
       "      <td>1</td>\n",
       "    </tr>\n",
       "    <tr>\n",
       "      <th>2</th>\n",
       "      <td>28</td>\n",
       "      <td>1</td>\n",
       "      <td>33.000</td>\n",
       "      <td>3009</td>\n",
       "      <td>3</td>\n",
       "      <td>0</td>\n",
       "      <td>2</td>\n",
       "      <td>4449.46200</td>\n",
       "      <td>0</td>\n",
       "    </tr>\n",
       "    <tr>\n",
       "      <th>3</th>\n",
       "      <td>33</td>\n",
       "      <td>1</td>\n",
       "      <td>22.705</td>\n",
       "      <td>10009</td>\n",
       "      <td>0</td>\n",
       "      <td>0</td>\n",
       "      <td>3</td>\n",
       "      <td>21984.47061</td>\n",
       "      <td>0</td>\n",
       "    </tr>\n",
       "    <tr>\n",
       "      <th>4</th>\n",
       "      <td>32</td>\n",
       "      <td>1</td>\n",
       "      <td>28.880</td>\n",
       "      <td>8010</td>\n",
       "      <td>0</td>\n",
       "      <td>0</td>\n",
       "      <td>3</td>\n",
       "      <td>3866.85520</td>\n",
       "      <td>1</td>\n",
       "    </tr>\n",
       "  </tbody>\n",
       "</table>\n",
       "</div>"
      ],
      "text/plain": [
       "   age  sex     bmi  steps  children  smoker  region      charges  \\\n",
       "0   19    0  27.900   3009         0       1       1  16884.92400   \n",
       "1   18    1  33.770   3008         1       0       2   1725.55230   \n",
       "2   28    1  33.000   3009         3       0       2   4449.46200   \n",
       "3   33    1  22.705  10009         0       0       3  21984.47061   \n",
       "4   32    1  28.880   8010         0       0       3   3866.85520   \n",
       "\n",
       "   insuranceclaim  \n",
       "0               1  \n",
       "1               1  \n",
       "2               0  \n",
       "3               0  \n",
       "4               1  "
      ]
     },
     "execution_count": 177,
     "metadata": {},
     "output_type": "execute_result"
    }
   ],
   "source": [
    "# Creating a copy of the DataFrame to be used in Model Builiding.\n",
    "data = data_complete\n",
    "data.head()"
   ]
  },
  {
   "cell_type": "code",
   "execution_count": 178,
   "metadata": {
    "scrolled": true
   },
   "outputs": [
    {
     "data": {
      "text/plain": [
       "<AxesSubplot:>"
      ]
     },
     "execution_count": 178,
     "metadata": {},
     "output_type": "execute_result"
    },
    {
     "data": {
      "image/png": "[encoded data removed]",
      "text/plain": [
       "<Figure size 1152x360 with 2 Axes>"
      ]
     },
     "metadata": {},
     "output_type": "display_data"
    }
   ],
   "source": [
    "# Plotting a Heatmap to infer the correlation amongst the various attributes.\n",
    "sns.heatmap(data.corr(),annot=True , fmt= \".2f\")"
   ]
  },
  {
   "cell_type": "markdown",
   "metadata": {},
   "source": [
    "# Section-2 : Data Visualization"
   ]
  },
  {
   "cell_type": "code",
   "execution_count": 179,
   "metadata": {},
   "outputs": [
    {
     "data": {
      "image/png": "[encoded data removed]",
      "text/plain": [
       "<Figure size 1152x360 with 1 Axes>"
      ]
     },
     "metadata": {},
     "output_type": "display_data"
    }
   ],
   "source": [
    "import numpy as np\n",
    "import matplotlib.pyplot as plt\n",
    "\n",
    "data = data.groupby('age').mean()\n",
    "plt.bar(data.index, data['charges'])\n",
    "plt.xlabel('Age')\n",
    "plt.ylabel('Average Health Insurance Charges')\n",
    "plt.title(\"Variation of Health Insurance Charges with Age\", y=1.1)\n",
    "#calculate equation for trendline\n",
    "z = np.polyfit(data.index, data['charges'], 1)\n",
    "p = np.poly1d(z)\n",
    "\n",
    "#add trendline to plot\n",
    "plt.plot(data.index, p(data.index), color=\"red\", linewidth=3, linestyle=\"--\")\n",
    "plt.grid()\n",
    "plt.show()"
   ]
  },
  {
   "cell_type": "code",
   "execution_count": 180,
   "metadata": {},
   "outputs": [
    {
     "data": {
      "image/png": "[encoded data removed]",
      "text/plain": [
       "<Figure size 1152x360 with 1 Axes>"
      ]
     },
     "metadata": {},
     "output_type": "display_data"
    }
   ],
   "source": [
    "plt.xlabel('BMI')\n",
    "plt.ylabel('Health Insurance Charges')\n",
    "plt.title(\"Variation of Health Insurance Charges with BMI\", y=1.1)\n",
    "plt.scatter(data['bmi'], data['charges'])\n",
    "plt.grid()\n",
    "plt.xlim([25,35])\n",
    "\n",
    "#plt.scatter(x, y, c =\"blue\")\n",
    "z = np.polyfit(data['bmi'], data['charges'], 1)\n",
    "p = np.poly1d(z)\n",
    "plt.plot(data['bmi'],p(data['bmi']),color=\"red\", linewidth=1, linestyle=\"--\")\n",
    "\n",
    "plt.show()"
   ]
  },
  {
   "cell_type": "code",
   "execution_count": 181,
   "metadata": {},
   "outputs": [
    {
     "data": {
      "image/png": "[encoded data removed]",
      "text/plain": [
       "<Figure size 1152x360 with 1 Axes>"
      ]
     },
     "metadata": {},
     "output_type": "display_data"
    }
   ],
   "source": [
    "plt.xlabel('Steps')\n",
    "plt.ylabel('Health Insurance Charges')\n",
    "plt.title(\"Variation of Health Insurance Charges with Steps\", y=1.1)\n",
    "plt.scatter(data['steps'], data['charges'])\n",
    "plt.grid()\n",
    "plt.xlim([3500,7000])\n",
    "\n",
    "#plt.scatter(x, y, c =\"blue\")\n",
    "z = np.polyfit(data['steps'], data['charges'], 1)\n",
    "p = np.poly1d(z)\n",
    "plt.plot(data['steps'],p(data['steps']),color=\"red\", linewidth=1, linestyle=\"--\")\n",
    "\n",
    "plt.show()"
   ]
  },
  {
   "cell_type": "markdown",
   "metadata": {},
   "source": [
    "# Section-4 : Model Building"
   ]
  },
  {
   "cell_type": "code",
   "execution_count": 22,
   "metadata": {},
   "outputs": [],
   "source": [
    "# Set up the dependent and the independent variables by dropping the Target Variable from the data frame.\n",
    "\n",
    "# The independent variables that are being used for model builiding are : \n",
    "# 1. age\n",
    "# 2. bmi\n",
    "# 3. steps\n",
    "# 4. smoker_yes \n",
    "\n",
    "# The target variable is : charges\n",
    "\n",
    "# X = Independent Variables/Feature Matrix\n",
    "# y = Taget Variable/Response Vector\n",
    "\n",
    "X = data.drop(['sex','children','region','charges','insuranceclaim'],axis=1)\n",
    "y = data['charges']\n",
    "\n",
    "#X = data.drop(['insuranceclaim'],axis=1) \n",
    "#y = data['insuranceclaim']"
   ]
  },
  {
   "cell_type": "code",
   "execution_count": 23,
   "metadata": {},
   "outputs": [
    {
     "data": {
      "text/html": [
       "<div>\n",
       "<style scoped>\n",
       "    .dataframe tbody tr th:only-of-type {\n",
       "        vertical-align: middle;\n",
       "    }\n",
       "\n",
       "    .dataframe tbody tr th {\n",
       "        vertical-align: top;\n",
       "    }\n",
       "\n",
       "    .dataframe thead th {\n",
       "        text-align: right;\n",
       "    }\n",
       "</style>\n",
       "<table border=\"1\" class=\"dataframe\">\n",
       "  <thead>\n",
       "    <tr style=\"text-align: right;\">\n",
       "      <th></th>\n",
       "      <th>age</th>\n",
       "      <th>bmi</th>\n",
       "      <th>steps</th>\n",
       "      <th>smoker</th>\n",
       "    </tr>\n",
       "  </thead>\n",
       "  <tbody>\n",
       "    <tr>\n",
       "      <th>0</th>\n",
       "      <td>19</td>\n",
       "      <td>27.900</td>\n",
       "      <td>3009</td>\n",
       "      <td>1</td>\n",
       "    </tr>\n",
       "    <tr>\n",
       "      <th>1</th>\n",
       "      <td>18</td>\n",
       "      <td>33.770</td>\n",
       "      <td>3008</td>\n",
       "      <td>0</td>\n",
       "    </tr>\n",
       "    <tr>\n",
       "      <th>2</th>\n",
       "      <td>28</td>\n",
       "      <td>33.000</td>\n",
       "      <td>3009</td>\n",
       "      <td>0</td>\n",
       "    </tr>\n",
       "    <tr>\n",
       "      <th>3</th>\n",
       "      <td>33</td>\n",
       "      <td>22.705</td>\n",
       "      <td>10009</td>\n",
       "      <td>0</td>\n",
       "    </tr>\n",
       "    <tr>\n",
       "      <th>4</th>\n",
       "      <td>32</td>\n",
       "      <td>28.880</td>\n",
       "      <td>8010</td>\n",
       "      <td>0</td>\n",
       "    </tr>\n",
       "  </tbody>\n",
       "</table>\n",
       "</div>"
      ],
      "text/plain": [
       "   age     bmi  steps  smoker\n",
       "0   19  27.900   3009       1\n",
       "1   18  33.770   3008       0\n",
       "2   28  33.000   3009       0\n",
       "3   33  22.705  10009       0\n",
       "4   32  28.880   8010       0"
      ]
     },
     "execution_count": 23,
     "metadata": {},
     "output_type": "execute_result"
    }
   ],
   "source": [
    "# Making a copy of the attribute truncated complete dataset.\n",
    "data_trunc = X\n",
    "data_trunc.head()"
   ]
  },
  {
   "cell_type": "code",
   "execution_count": 24,
   "metadata": {},
   "outputs": [
    {
     "data": {
      "text/html": [
       "<div>\n",
       "<style scoped>\n",
       "    .dataframe tbody tr th:only-of-type {\n",
       "        vertical-align: middle;\n",
       "    }\n",
       "\n",
       "    .dataframe tbody tr th {\n",
       "        vertical-align: top;\n",
       "    }\n",
       "\n",
       "    .dataframe thead th {\n",
       "        text-align: right;\n",
       "    }\n",
       "</style>\n",
       "<table border=\"1\" class=\"dataframe\">\n",
       "  <thead>\n",
       "    <tr style=\"text-align: right;\">\n",
       "      <th></th>\n",
       "      <th>age</th>\n",
       "      <th>bmi</th>\n",
       "      <th>steps</th>\n",
       "      <th>smoker</th>\n",
       "    </tr>\n",
       "  </thead>\n",
       "  <tbody>\n",
       "    <tr>\n",
       "      <th>0</th>\n",
       "      <td>19</td>\n",
       "      <td>27.900</td>\n",
       "      <td>3009</td>\n",
       "      <td>1</td>\n",
       "    </tr>\n",
       "    <tr>\n",
       "      <th>1</th>\n",
       "      <td>18</td>\n",
       "      <td>33.770</td>\n",
       "      <td>3008</td>\n",
       "      <td>0</td>\n",
       "    </tr>\n",
       "    <tr>\n",
       "      <th>2</th>\n",
       "      <td>28</td>\n",
       "      <td>33.000</td>\n",
       "      <td>3009</td>\n",
       "      <td>0</td>\n",
       "    </tr>\n",
       "    <tr>\n",
       "      <th>3</th>\n",
       "      <td>33</td>\n",
       "      <td>22.705</td>\n",
       "      <td>10009</td>\n",
       "      <td>0</td>\n",
       "    </tr>\n",
       "    <tr>\n",
       "      <th>4</th>\n",
       "      <td>32</td>\n",
       "      <td>28.880</td>\n",
       "      <td>8010</td>\n",
       "      <td>0</td>\n",
       "    </tr>\n",
       "  </tbody>\n",
       "</table>\n",
       "</div>"
      ],
      "text/plain": [
       "   age     bmi  steps  smoker\n",
       "0   19  27.900   3009       1\n",
       "1   18  33.770   3008       0\n",
       "2   28  33.000   3009       0\n",
       "3   33  22.705  10009       0\n",
       "4   32  28.880   8010       0"
      ]
     },
     "execution_count": 24,
     "metadata": {},
     "output_type": "execute_result"
    }
   ],
   "source": [
    "X.head()"
   ]
  },
  {
   "cell_type": "code",
   "execution_count": 25,
   "metadata": {},
   "outputs": [
    {
     "data": {
      "text/plain": [
       "0    16884.92400\n",
       "1     1725.55230\n",
       "2     4449.46200\n",
       "3    21984.47061\n",
       "4     3866.85520\n",
       "Name: charges, dtype: float64"
      ]
     },
     "execution_count": 25,
     "metadata": {},
     "output_type": "execute_result"
    }
   ],
   "source": [
    "y.head()"
   ]
  },
  {
   "cell_type": "code",
   "execution_count": 26,
   "metadata": {},
   "outputs": [
    {
     "name": "stdout",
     "output_type": "stream",
     "text": [
      "(1070, 4)\n",
      "(268, 4)\n",
      "(1070,)\n",
      "(268,)\n"
     ]
    }
   ],
   "source": [
    "# Splitting the data : X and y into Training Data and Test Data.\n",
    "from sklearn.model_selection import train_test_split\n",
    "X_train,X_test,y_train,y_test=train_test_split(X,y,test_size=0.2,random_state=1)\n",
    "\n",
    "# Having a glance at the shape of the Training Data and the Test Data.\n",
    "print(X_train.shape)\n",
    "print(X_test.shape)\n",
    "print(y_train.shape)\n",
    "print(y_test.shape)"
   ]
  },
  {
   "cell_type": "markdown",
   "metadata": {},
   "source": [
    "# Model Implementation:"
   ]
  },
  {
   "cell_type": "code",
   "execution_count": 27,
   "metadata": {},
   "outputs": [],
   "source": [
    "# 1. Linear Regression\n",
    "# 2. Random Forest\n",
    "# 3. Support Vector Machine\n",
    "# 4. XG gradient Boost"
   ]
  },
  {
   "cell_type": "code",
   "execution_count": 28,
   "metadata": {},
   "outputs": [],
   "source": [
    "# Impoting the necessary Libraries & Packages for Model Building.\n",
    "from sklearn.linear_model import LinearRegression\n",
    "from sklearn.svm import SVR\n",
    "from sklearn.ensemble import RandomForestRegressor\n",
    "from sklearn.ensemble import GradientBoostingRegressor"
   ]
  },
  {
   "cell_type": "markdown",
   "metadata": {},
   "source": [
    "# 1. Linear Regression"
   ]
  },
  {
   "cell_type": "code",
   "execution_count": 29,
   "metadata": {},
   "outputs": [
    {
     "data": {
      "text/html": [
       "<div>\n",
       "<style scoped>\n",
       "    .dataframe tbody tr th:only-of-type {\n",
       "        vertical-align: middle;\n",
       "    }\n",
       "\n",
       "    .dataframe tbody tr th {\n",
       "        vertical-align: top;\n",
       "    }\n",
       "\n",
       "    .dataframe thead th {\n",
       "        text-align: right;\n",
       "    }\n",
       "</style>\n",
       "<table border=\"1\" class=\"dataframe\">\n",
       "  <thead>\n",
       "    <tr style=\"text-align: right;\">\n",
       "      <th></th>\n",
       "      <th>age</th>\n",
       "      <th>bmi</th>\n",
       "      <th>steps</th>\n",
       "      <th>smoker</th>\n",
       "    </tr>\n",
       "  </thead>\n",
       "  <tbody>\n",
       "    <tr>\n",
       "      <th>0</th>\n",
       "      <td>270.142924</td>\n",
       "      <td>492.647522</td>\n",
       "      <td>0.706145</td>\n",
       "      <td>24852.517088</td>\n",
       "    </tr>\n",
       "  </tbody>\n",
       "</table>\n",
       "</div>"
      ],
      "text/plain": [
       "          age         bmi     steps        smoker\n",
       "0  270.142924  492.647522  0.706145  24852.517088"
      ]
     },
     "execution_count": 29,
     "metadata": {},
     "output_type": "execute_result"
    }
   ],
   "source": [
    "# Creating a Linear Regression object.\n",
    "linear_reg = LinearRegression()\n",
    "\n",
    "# Training the Linear Regression model using the Training Data.\n",
    "linear_reg.fit(X_train,y_train)\n",
    "\n",
    "# Evaluating the coefficients that the model has generated.\n",
    "coeffs = pd.DataFrame(linear_reg.coef_, index=X.columns).transpose()\n",
    "coeffs"
   ]
  },
  {
   "cell_type": "code",
   "execution_count": 30,
   "metadata": {},
   "outputs": [
    {
     "data": {
      "text/html": [
       "<div>\n",
       "<style scoped>\n",
       "    .dataframe tbody tr th:only-of-type {\n",
       "        vertical-align: middle;\n",
       "    }\n",
       "\n",
       "    .dataframe tbody tr th {\n",
       "        vertical-align: top;\n",
       "    }\n",
       "\n",
       "    .dataframe thead th {\n",
       "        text-align: right;\n",
       "    }\n",
       "</style>\n",
       "<table border=\"1\" class=\"dataframe\">\n",
       "  <thead>\n",
       "    <tr style=\"text-align: right;\">\n",
       "      <th></th>\n",
       "      <th>Predicted</th>\n",
       "      <th>Actual</th>\n",
       "    </tr>\n",
       "  </thead>\n",
       "  <tbody>\n",
       "    <tr>\n",
       "      <th>559</th>\n",
       "      <td>3476.298040</td>\n",
       "      <td>1646.42970</td>\n",
       "    </tr>\n",
       "    <tr>\n",
       "      <th>1087</th>\n",
       "      <td>11779.596268</td>\n",
       "      <td>11353.22760</td>\n",
       "    </tr>\n",
       "    <tr>\n",
       "      <th>1020</th>\n",
       "      <td>13552.620748</td>\n",
       "      <td>8798.59300</td>\n",
       "    </tr>\n",
       "    <tr>\n",
       "      <th>460</th>\n",
       "      <td>12126.734908</td>\n",
       "      <td>10381.47870</td>\n",
       "    </tr>\n",
       "    <tr>\n",
       "      <th>802</th>\n",
       "      <td>2446.108955</td>\n",
       "      <td>2103.08000</td>\n",
       "    </tr>\n",
       "    <tr>\n",
       "      <th>...</th>\n",
       "      <td>...</td>\n",
       "      <td>...</td>\n",
       "    </tr>\n",
       "    <tr>\n",
       "      <th>682</th>\n",
       "      <td>33619.776971</td>\n",
       "      <td>40103.89000</td>\n",
       "    </tr>\n",
       "    <tr>\n",
       "      <th>629</th>\n",
       "      <td>36771.479628</td>\n",
       "      <td>42983.45850</td>\n",
       "    </tr>\n",
       "    <tr>\n",
       "      <th>893</th>\n",
       "      <td>37574.157345</td>\n",
       "      <td>44202.65360</td>\n",
       "    </tr>\n",
       "    <tr>\n",
       "      <th>807</th>\n",
       "      <td>3988.996266</td>\n",
       "      <td>2136.88225</td>\n",
       "    </tr>\n",
       "    <tr>\n",
       "      <th>1165</th>\n",
       "      <td>6694.547530</td>\n",
       "      <td>5227.98875</td>\n",
       "    </tr>\n",
       "  </tbody>\n",
       "</table>\n",
       "<p>268 rows × 2 columns</p>\n",
       "</div>"
      ],
      "text/plain": [
       "         Predicted       Actual\n",
       "559    3476.298040   1646.42970\n",
       "1087  11779.596268  11353.22760\n",
       "1020  13552.620748   8798.59300\n",
       "460   12126.734908  10381.47870\n",
       "802    2446.108955   2103.08000\n",
       "...            ...          ...\n",
       "682   33619.776971  40103.89000\n",
       "629   36771.479628  42983.45850\n",
       "893   37574.157345  44202.65360\n",
       "807    3988.996266   2136.88225\n",
       "1165   6694.547530   5227.98875\n",
       "\n",
       "[268 rows x 2 columns]"
      ]
     },
     "execution_count": 30,
     "metadata": {},
     "output_type": "execute_result"
    }
   ],
   "source": [
    "# Comparing the predicted values to the actual values on Test Data.\n",
    "test_pred_lr = linear_reg.predict(X_test)\n",
    "test_pred_lr_comparison = pd.DataFrame({\"Predicted\":test_pred_lr,\"Actual\":y_test})\n",
    "test_pred_lr_comparison"
   ]
  },
  {
   "cell_type": "code",
   "execution_count": 31,
   "metadata": {},
   "outputs": [],
   "source": [
    "# Comparing the predicted values to the actual values on Training Data.\n",
    "train_pred_lr = linear_reg.predict(X_train)\n",
    "train_pred_lr_comparison = pd.DataFrame({\"Predicted\":train_pred_lr,\"Actual\":y_train})\n",
    "#train_pred_lr_comparison"
   ]
  },
  {
   "cell_type": "code",
   "execution_count": 32,
   "metadata": {
    "scrolled": true
   },
   "outputs": [
    {
     "name": "stdout",
     "output_type": "stream",
     "text": [
      "\n",
      "Mean Absolute Error :  3989.4435786846025\n",
      "\n",
      "Mean Squared Error :  34416850.95548388\n",
      "\n",
      "Root Mean Squared Error :  5866.587675598472\n",
      "\n",
      "Variance Score for the Linear Regression Model :  0.7694486636353987\n"
     ]
    }
   ],
   "source": [
    "# Evaluating the model for accuracy on Test Data.\n",
    "print(\"\\nMean Absolute Error : \", metrics.mean_absolute_error(y_test, test_pred_lr))\n",
    "print(\"\\nMean Squared Error : \", metrics.mean_squared_error(y_test, test_pred_lr))\n",
    "print(\"\\nRoot Mean Squared Error : \", np.sqrt(metrics.mean_squared_error(y_test, test_pred_lr)))\n",
    "\n",
    "#Evaluating the variance score. (Note: score = 1 means perfect prediction.)\n",
    "r2_lr_test = format(linear_reg.score(X_test, y_test))\n",
    "print(\"\\nVariance Score for the Linear Regression Model : \",r2_lr_test)"
   ]
  },
  {
   "cell_type": "code",
   "execution_count": 33,
   "metadata": {
    "scrolled": true
   },
   "outputs": [
    {
     "name": "stdout",
     "output_type": "stream",
     "text": [
      "\n",
      "Mean Absolute Error :  4086.9889746852673\n",
      "\n",
      "Mean Squared Error :  35800201.79507746\n",
      "\n",
      "Root Mean Squared Error :  5983.32698380069\n",
      "\n",
      "Variance Score for the Linear Regression Model :  0.7545391474616814\n"
     ]
    }
   ],
   "source": [
    "# Evaluating the model for accuracy on Training Data to identify overfitting (if any.)\n",
    "print(\"\\nMean Absolute Error : \", metrics.mean_absolute_error(y_train, train_pred_lr))\n",
    "print(\"\\nMean Squared Error : \", metrics.mean_squared_error(y_train, train_pred_lr))\n",
    "print(\"\\nRoot Mean Squared Error : \", np.sqrt(metrics.mean_squared_error(y_train, train_pred_lr)))\n",
    "\n",
    "#Evaluating the variance score. (Note: score = 1 means perfect prediction.)\n",
    "r2_lr_train = format(linear_reg.score(X_train, y_train))\n",
    "print(\"\\nVariance Score for the Linear Regression Model : \",r2_lr_train)"
   ]
  },
  {
   "cell_type": "code",
   "execution_count": 34,
   "metadata": {
    "scrolled": true
   },
   "outputs": [
    {
     "data": {
      "image/png": "[encoded data removed]",
      "text/plain": [
       "<Figure size 1152x360 with 1 Axes>"
      ]
     },
     "metadata": {},
     "output_type": "display_data"
    }
   ],
   "source": [
    "# Plotting for residual error.\n",
    "# Setting plot style.\n",
    "plt.style.use('fivethirtyeight')\n",
    "  \n",
    "# Plotting residual errors in training data.\n",
    "plt.scatter(linear_reg.predict(X_train), linear_reg.predict(X_train) - y_train,\n",
    "            color = \"green\", s = 1, label = 'Training Data')\n",
    "  \n",
    "# Plotting residual errors in test data.\n",
    "plt.scatter(linear_reg.predict(X_test), linear_reg.predict(X_test) - y_test,\n",
    "            color = \"blue\", s = 1, label = 'Test Data')\n",
    "  \n",
    "# Plotting line for zero residual error.\n",
    "plt.hlines(y = 0, xmin = 0, xmax = 5, linewidth = 2)\n",
    "  \n",
    "# Plotting the legend.\n",
    "plt.legend(loc = 'upper right')\n",
    "  \n",
    "# Plot the title.\n",
    "plt.title(\"Residual Errors, Model : Linear Regression\")\n",
    "  \n",
    "# Method call for displaying the plot.\n",
    "plt.show()"
   ]
  },
  {
   "cell_type": "markdown",
   "metadata": {},
   "source": [
    "# 2. Random Forest"
   ]
  },
  {
   "cell_type": "code",
   "execution_count": 35,
   "metadata": {},
   "outputs": [
    {
     "data": {
      "text/plain": [
       "RandomForestRegressor()"
      ]
     },
     "execution_count": 35,
     "metadata": {},
     "output_type": "execute_result"
    }
   ],
   "source": [
    "# Creating a Random Forest object.\n",
    "random_for = RandomForestRegressor()\n",
    "\n",
    "# Training the Linear Regression model using the Training Data.\n",
    "random_for.fit(X_train,y_train)"
   ]
  },
  {
   "cell_type": "code",
   "execution_count": 36,
   "metadata": {},
   "outputs": [
    {
     "data": {
      "text/html": [
       "<div>\n",
       "<style scoped>\n",
       "    .dataframe tbody tr th:only-of-type {\n",
       "        vertical-align: middle;\n",
       "    }\n",
       "\n",
       "    .dataframe tbody tr th {\n",
       "        vertical-align: top;\n",
       "    }\n",
       "\n",
       "    .dataframe thead th {\n",
       "        text-align: right;\n",
       "    }\n",
       "</style>\n",
       "<table border=\"1\" class=\"dataframe\">\n",
       "  <thead>\n",
       "    <tr style=\"text-align: right;\">\n",
       "      <th></th>\n",
       "      <th>Predicted</th>\n",
       "      <th>Actual</th>\n",
       "    </tr>\n",
       "  </thead>\n",
       "  <tbody>\n",
       "    <tr>\n",
       "      <th>559</th>\n",
       "      <td>3746.036040</td>\n",
       "      <td>1646.42970</td>\n",
       "    </tr>\n",
       "    <tr>\n",
       "      <th>1087</th>\n",
       "      <td>11975.351744</td>\n",
       "      <td>11353.22760</td>\n",
       "    </tr>\n",
       "    <tr>\n",
       "      <th>1020</th>\n",
       "      <td>10840.002868</td>\n",
       "      <td>8798.59300</td>\n",
       "    </tr>\n",
       "    <tr>\n",
       "      <th>460</th>\n",
       "      <td>10285.817713</td>\n",
       "      <td>10381.47870</td>\n",
       "    </tr>\n",
       "    <tr>\n",
       "      <th>802</th>\n",
       "      <td>4232.215442</td>\n",
       "      <td>2103.08000</td>\n",
       "    </tr>\n",
       "    <tr>\n",
       "      <th>...</th>\n",
       "      <td>...</td>\n",
       "      <td>...</td>\n",
       "    </tr>\n",
       "    <tr>\n",
       "      <th>682</th>\n",
       "      <td>44248.114833</td>\n",
       "      <td>40103.89000</td>\n",
       "    </tr>\n",
       "    <tr>\n",
       "      <th>629</th>\n",
       "      <td>46269.136511</td>\n",
       "      <td>42983.45850</td>\n",
       "    </tr>\n",
       "    <tr>\n",
       "      <th>893</th>\n",
       "      <td>46361.939442</td>\n",
       "      <td>44202.65360</td>\n",
       "    </tr>\n",
       "    <tr>\n",
       "      <th>807</th>\n",
       "      <td>3533.781392</td>\n",
       "      <td>2136.88225</td>\n",
       "    </tr>\n",
       "    <tr>\n",
       "      <th>1165</th>\n",
       "      <td>5070.484976</td>\n",
       "      <td>5227.98875</td>\n",
       "    </tr>\n",
       "  </tbody>\n",
       "</table>\n",
       "<p>268 rows × 2 columns</p>\n",
       "</div>"
      ],
      "text/plain": [
       "         Predicted       Actual\n",
       "559    3746.036040   1646.42970\n",
       "1087  11975.351744  11353.22760\n",
       "1020  10840.002868   8798.59300\n",
       "460   10285.817713  10381.47870\n",
       "802    4232.215442   2103.08000\n",
       "...            ...          ...\n",
       "682   44248.114833  40103.89000\n",
       "629   46269.136511  42983.45850\n",
       "893   46361.939442  44202.65360\n",
       "807    3533.781392   2136.88225\n",
       "1165   5070.484976   5227.98875\n",
       "\n",
       "[268 rows x 2 columns]"
      ]
     },
     "execution_count": 36,
     "metadata": {},
     "output_type": "execute_result"
    }
   ],
   "source": [
    "# Comparing the predicted values to the actual values on Test Data.\n",
    "test_pred_rf = random_for.predict(X_test)\n",
    "test_pred_rf_comparison = pd.DataFrame({\"Predicted\":test_pred_rf,\"Actual\":y_test})\n",
    "test_pred_rf_comparison"
   ]
  },
  {
   "cell_type": "code",
   "execution_count": 37,
   "metadata": {},
   "outputs": [],
   "source": [
    "# Comparing the predicted values to the actual values on Training Data.\n",
    "train_pred_rf = random_for.predict(X_train)\n",
    "train_pred_rf_comparison = pd.DataFrame({\"Predicted\":train_pred_rf,\"Actual\":y_train})\n",
    "#train_pred_rf_comparison"
   ]
  },
  {
   "cell_type": "code",
   "execution_count": 38,
   "metadata": {},
   "outputs": [
    {
     "name": "stdout",
     "output_type": "stream",
     "text": [
      "\n",
      "Mean Absolute Error :  3045.4823110645143\n",
      "\n",
      "Mean Squared Error :  25266153.16797467\n",
      "\n",
      "Root Mean Squared Error :  5026.544853870765\n",
      "\n",
      "Variance Score for the Linear Regression Model :  0.8307472875655086\n"
     ]
    }
   ],
   "source": [
    "# Evaluating the model for accuracy on Test Data.\n",
    "print(\"\\nMean Absolute Error : \", metrics.mean_absolute_error(y_test, test_pred_rf))\n",
    "print(\"\\nMean Squared Error : \", metrics.mean_squared_error(y_test, test_pred_rf))\n",
    "print(\"\\nRoot Mean Squared Error : \", np.sqrt(metrics.mean_squared_error(y_test, test_pred_rf)))\n",
    "\n",
    "#Evaluating the variance score. (Note: score = 1 means perfect prediction.)\n",
    "r2_rf_test = format(random_for.score(X_test, y_test))\n",
    "print(\"\\nVariance Score for the Random Forest Model : \",r2_rf_test)"
   ]
  },
  {
   "cell_type": "code",
   "execution_count": 39,
   "metadata": {},
   "outputs": [
    {
     "name": "stdout",
     "output_type": "stream",
     "text": [
      "\n",
      "Mean Absolute Error :  1081.1891251891961\n",
      "\n",
      "Mean Squared Error :  3540342.204683737\n",
      "\n",
      "Root Mean Squared Error :  1881.5797098937203\n",
      "\n",
      "Variance Score for the Linear Regression Model :  0.9757259631994993\n"
     ]
    }
   ],
   "source": [
    "# Evaluating the model for accuracy on Training Data to identify overfitting (if any.)\n",
    "print(\"\\nMean Absolute Error : \", metrics.mean_absolute_error(y_train, train_pred_rf))\n",
    "print(\"\\nMean Squared Error : \", metrics.mean_squared_error(y_train, train_pred_rf))\n",
    "print(\"\\nRoot Mean Squared Error : \", np.sqrt(metrics.mean_squared_error(y_train, train_pred_rf)))\n",
    "\n",
    "#Evaluating the variance score. (Note: score = 1 means perfect prediction.)\n",
    "r2_rf_train = format(random_for.score(X_train, y_train))\n",
    "print(\"\\nVariance Score for the Random Forest Model : \",r2_rf_train)"
   ]
  },
  {
   "cell_type": "code",
   "execution_count": 40,
   "metadata": {},
   "outputs": [
    {
     "data": {
      "image/png": "[encoded data removed]",
      "text/plain": [
       "<Figure size 1152x360 with 1 Axes>"
      ]
     },
     "metadata": {},
     "output_type": "display_data"
    }
   ],
   "source": [
    "# Plotting for residual error.\n",
    "# Setting plot style.\n",
    "plt.style.use('fivethirtyeight')\n",
    "  \n",
    "# Plotting residual errors in training data.\n",
    "plt.scatter(random_for.predict(X_train), random_for.predict(X_train) - y_train,\n",
    "            color = \"green\", s = 1, label = 'Training Data')\n",
    "  \n",
    "# Plotting residual errors in test data.\n",
    "plt.scatter(random_for.predict(X_test), random_for.predict(X_test) - y_test,\n",
    "            color = \"blue\", s = 1, label = 'Test Data')\n",
    "  \n",
    "# Plotting line for zero residual error.\n",
    "plt.hlines(y = 0, xmin = 0, xmax = 5, linewidth = 2)\n",
    "  \n",
    "# Plotting the legend.\n",
    "plt.legend(loc = 'upper right')\n",
    "  \n",
    "# Plot the title.\n",
    "plt.title(\"Residual Errors, Model : Random Forest\")\n",
    "  \n",
    "# Method call for displaying the plot.\n",
    "plt.show()"
   ]
  },
  {
   "cell_type": "markdown",
   "metadata": {},
   "source": [
    "# 3. Support Vector Machine"
   ]
  },
  {
   "cell_type": "code",
   "execution_count": 41,
   "metadata": {},
   "outputs": [
    {
     "data": {
      "text/plain": [
       "SVR()"
      ]
     },
     "execution_count": 41,
     "metadata": {},
     "output_type": "execute_result"
    }
   ],
   "source": [
    "# Creating a Support Vector Machine object.\n",
    "svm = SVR()\n",
    "\n",
    "# Training the Support Vector Machine using the Training Data.\n",
    "svm.fit(X_train,y_train)"
   ]
  },
  {
   "cell_type": "code",
   "execution_count": 42,
   "metadata": {},
   "outputs": [
    {
     "data": {
      "text/html": [
       "<div>\n",
       "<style scoped>\n",
       "    .dataframe tbody tr th:only-of-type {\n",
       "        vertical-align: middle;\n",
       "    }\n",
       "\n",
       "    .dataframe tbody tr th {\n",
       "        vertical-align: top;\n",
       "    }\n",
       "\n",
       "    .dataframe thead th {\n",
       "        text-align: right;\n",
       "    }\n",
       "</style>\n",
       "<table border=\"1\" class=\"dataframe\">\n",
       "  <thead>\n",
       "    <tr style=\"text-align: right;\">\n",
       "      <th></th>\n",
       "      <th>Predicted</th>\n",
       "      <th>Actual</th>\n",
       "    </tr>\n",
       "  </thead>\n",
       "  <tbody>\n",
       "    <tr>\n",
       "      <th>559</th>\n",
       "      <td>9377.280450</td>\n",
       "      <td>1646.42970</td>\n",
       "    </tr>\n",
       "    <tr>\n",
       "      <th>1087</th>\n",
       "      <td>9377.257365</td>\n",
       "      <td>11353.22760</td>\n",
       "    </tr>\n",
       "    <tr>\n",
       "      <th>1020</th>\n",
       "      <td>9361.993156</td>\n",
       "      <td>8798.59300</td>\n",
       "    </tr>\n",
       "    <tr>\n",
       "      <th>460</th>\n",
       "      <td>9377.246878</td>\n",
       "      <td>10381.47870</td>\n",
       "    </tr>\n",
       "    <tr>\n",
       "      <th>802</th>\n",
       "      <td>9165.084649</td>\n",
       "      <td>2103.08000</td>\n",
       "    </tr>\n",
       "    <tr>\n",
       "      <th>...</th>\n",
       "      <td>...</td>\n",
       "      <td>...</td>\n",
       "    </tr>\n",
       "    <tr>\n",
       "      <th>682</th>\n",
       "      <td>9377.274672</td>\n",
       "      <td>40103.89000</td>\n",
       "    </tr>\n",
       "    <tr>\n",
       "      <th>629</th>\n",
       "      <td>9377.244970</td>\n",
       "      <td>42983.45850</td>\n",
       "    </tr>\n",
       "    <tr>\n",
       "      <th>893</th>\n",
       "      <td>9377.277521</td>\n",
       "      <td>44202.65360</td>\n",
       "    </tr>\n",
       "    <tr>\n",
       "      <th>807</th>\n",
       "      <td>9377.303758</td>\n",
       "      <td>2136.88225</td>\n",
       "    </tr>\n",
       "    <tr>\n",
       "      <th>1165</th>\n",
       "      <td>9209.684314</td>\n",
       "      <td>5227.98875</td>\n",
       "    </tr>\n",
       "  </tbody>\n",
       "</table>\n",
       "<p>268 rows × 2 columns</p>\n",
       "</div>"
      ],
      "text/plain": [
       "        Predicted       Actual\n",
       "559   9377.280450   1646.42970\n",
       "1087  9377.257365  11353.22760\n",
       "1020  9361.993156   8798.59300\n",
       "460   9377.246878  10381.47870\n",
       "802   9165.084649   2103.08000\n",
       "...           ...          ...\n",
       "682   9377.274672  40103.89000\n",
       "629   9377.244970  42983.45850\n",
       "893   9377.277521  44202.65360\n",
       "807   9377.303758   2136.88225\n",
       "1165  9209.684314   5227.98875\n",
       "\n",
       "[268 rows x 2 columns]"
      ]
     },
     "execution_count": 42,
     "metadata": {},
     "output_type": "execute_result"
    }
   ],
   "source": [
    "# Comparing the predicted values to the actual values on Test Data.\n",
    "test_pred_svm = svm.predict(X_test)\n",
    "test_pred_svm_comparison = pd.DataFrame({\"Predicted\":test_pred_svm,\"Actual\":y_test})\n",
    "test_pred_svm_comparison"
   ]
  },
  {
   "cell_type": "code",
   "execution_count": 43,
   "metadata": {},
   "outputs": [],
   "source": [
    "# Comparing the predicted values to the actual values on Training Data.\n",
    "train_pred_svm = svm.predict(X_train)\n",
    "train_pred_svm_comparison = pd.DataFrame({\"Predicted\":train_pred_svm,\"Actual\":y_train})\n",
    "#train_pred_svm_comparison"
   ]
  },
  {
   "cell_type": "code",
   "execution_count": 44,
   "metadata": {},
   "outputs": [
    {
     "name": "stdout",
     "output_type": "stream",
     "text": [
      "\n",
      "Mean Absolute Error :  8292.719232941981\n",
      "\n",
      "Mean Squared Error :  165588640.15746588\n",
      "\n",
      "Root Mean Squared Error :  12868.124966655627\n",
      "\n",
      "Variance Score for the SVM Model :  -0.10924390858652555\n"
     ]
    }
   ],
   "source": [
    "# Evaluating the model for accuracy on Test Data.\n",
    "print(\"\\nMean Absolute Error : \", metrics.mean_absolute_error(y_test, test_pred_svm))\n",
    "print(\"\\nMean Squared Error : \", metrics.mean_squared_error(y_test, test_pred_svm))\n",
    "print(\"\\nRoot Mean Squared Error : \", np.sqrt(metrics.mean_squared_error(y_test, test_pred_svm)))\n",
    "\n",
    "#Evaluating the variance score. (Note: score = 1 means perfect prediction.)\n",
    "svm_r2_test = format(svm.score(X_test, y_test))\n",
    "print(\"\\nVariance Score for the SVM Model : \", svm_r2_test)"
   ]
  },
  {
   "cell_type": "code",
   "execution_count": 45,
   "metadata": {},
   "outputs": [
    {
     "name": "stdout",
     "output_type": "stream",
     "text": [
      "\n",
      "Mean Absolute Error :  8332.812663005543\n",
      "\n",
      "Mean Squared Error :  160645737.4302956\n",
      "\n",
      "Root Mean Squared Error :  12674.609951801103\n",
      "\n",
      "Variance Score for the SVM Model :  -0.10145299995792745\n"
     ]
    }
   ],
   "source": [
    "# Evaluating the model for accuracy on Training Data.\n",
    "print(\"\\nMean Absolute Error : \", metrics.mean_absolute_error(y_train, train_pred_svm))\n",
    "print(\"\\nMean Squared Error : \", metrics.mean_squared_error(y_train, train_pred_svm))\n",
    "print(\"\\nRoot Mean Squared Error : \", np.sqrt(metrics.mean_squared_error(y_train, train_pred_svm)))\n",
    "\n",
    "#Evaluating the variance score. (Note: score = 1 means perfect prediction.)\n",
    "svm_r2_train = format(svm.score(X_train, y_train))\n",
    "print(\"\\nVariance Score for the SVM Model : \", svm_r2_train)"
   ]
  },
  {
   "cell_type": "code",
   "execution_count": 46,
   "metadata": {},
   "outputs": [
    {
     "data": {
      "image/png": "[encoded data removed]",
      "text/plain": [
       "<Figure size 1152x360 with 1 Axes>"
      ]
     },
     "metadata": {},
     "output_type": "display_data"
    }
   ],
   "source": [
    "# Plotting for residual error.\n",
    "# Setting plot style.\n",
    "plt.style.use('fivethirtyeight')\n",
    "  \n",
    "# Plotting residual errors in training data.\n",
    "plt.scatter(svm.predict(X_train), svm.predict(X_train) - y_train,\n",
    "            color = \"green\", s = 1, label = 'Training Data')\n",
    "  \n",
    "# Plotting residual errors in test data.\n",
    "plt.scatter(svm.predict(X_test), svm.predict(X_test) - y_test,\n",
    "            color = \"blue\", s = 1, label = 'Test Data')\n",
    "  \n",
    "# Plotting line for zero residual error.\n",
    "plt.hlines(y = 0, xmin = 0, xmax = 5, linewidth = 2)\n",
    "  \n",
    "# Plotting the legend.\n",
    "plt.legend(loc = 'upper right')\n",
    "  \n",
    "# Plot the title.\n",
    "plt.title(\"Residual Errors, Model : Support Vector Machine\")\n",
    "  \n",
    "# Method call for displaying the plot.\n",
    "plt.show()"
   ]
  },
  {
   "cell_type": "markdown",
   "metadata": {},
   "source": [
    "# 4. XG Gradient Boost"
   ]
  },
  {
   "cell_type": "code",
   "execution_count": 47,
   "metadata": {},
   "outputs": [
    {
     "data": {
      "text/plain": [
       "GradientBoostingRegressor()"
      ]
     },
     "execution_count": 47,
     "metadata": {},
     "output_type": "execute_result"
    }
   ],
   "source": [
    "# Creating a Gradient Boost object.\n",
    "gr = GradientBoostingRegressor()\n",
    "\n",
    "# Training the XG Gradient Boost using the Training Data.\n",
    "gr.fit(X_train,y_train)"
   ]
  },
  {
   "cell_type": "code",
   "execution_count": 48,
   "metadata": {},
   "outputs": [
    {
     "data": {
      "text/html": [
       "<div>\n",
       "<style scoped>\n",
       "    .dataframe tbody tr th:only-of-type {\n",
       "        vertical-align: middle;\n",
       "    }\n",
       "\n",
       "    .dataframe tbody tr th {\n",
       "        vertical-align: top;\n",
       "    }\n",
       "\n",
       "    .dataframe thead th {\n",
       "        text-align: right;\n",
       "    }\n",
       "</style>\n",
       "<table border=\"1\" class=\"dataframe\">\n",
       "  <thead>\n",
       "    <tr style=\"text-align: right;\">\n",
       "      <th></th>\n",
       "      <th>Predicted</th>\n",
       "      <th>Actual</th>\n",
       "    </tr>\n",
       "  </thead>\n",
       "  <tbody>\n",
       "    <tr>\n",
       "      <th>559</th>\n",
       "      <td>3612.718475</td>\n",
       "      <td>1646.42970</td>\n",
       "    </tr>\n",
       "    <tr>\n",
       "      <th>1087</th>\n",
       "      <td>12983.225790</td>\n",
       "      <td>11353.22760</td>\n",
       "    </tr>\n",
       "    <tr>\n",
       "      <th>1020</th>\n",
       "      <td>11102.033513</td>\n",
       "      <td>8798.59300</td>\n",
       "    </tr>\n",
       "    <tr>\n",
       "      <th>460</th>\n",
       "      <td>11301.404305</td>\n",
       "      <td>10381.47870</td>\n",
       "    </tr>\n",
       "    <tr>\n",
       "      <th>802</th>\n",
       "      <td>5726.863461</td>\n",
       "      <td>2103.08000</td>\n",
       "    </tr>\n",
       "    <tr>\n",
       "      <th>...</th>\n",
       "      <td>...</td>\n",
       "      <td>...</td>\n",
       "    </tr>\n",
       "    <tr>\n",
       "      <th>682</th>\n",
       "      <td>40769.285348</td>\n",
       "      <td>40103.89000</td>\n",
       "    </tr>\n",
       "    <tr>\n",
       "      <th>629</th>\n",
       "      <td>44633.647535</td>\n",
       "      <td>42983.45850</td>\n",
       "    </tr>\n",
       "    <tr>\n",
       "      <th>893</th>\n",
       "      <td>44122.362088</td>\n",
       "      <td>44202.65360</td>\n",
       "    </tr>\n",
       "    <tr>\n",
       "      <th>807</th>\n",
       "      <td>3772.077914</td>\n",
       "      <td>2136.88225</td>\n",
       "    </tr>\n",
       "    <tr>\n",
       "      <th>1165</th>\n",
       "      <td>5879.907581</td>\n",
       "      <td>5227.98875</td>\n",
       "    </tr>\n",
       "  </tbody>\n",
       "</table>\n",
       "<p>268 rows × 2 columns</p>\n",
       "</div>"
      ],
      "text/plain": [
       "         Predicted       Actual\n",
       "559    3612.718475   1646.42970\n",
       "1087  12983.225790  11353.22760\n",
       "1020  11102.033513   8798.59300\n",
       "460   11301.404305  10381.47870\n",
       "802    5726.863461   2103.08000\n",
       "...            ...          ...\n",
       "682   40769.285348  40103.89000\n",
       "629   44633.647535  42983.45850\n",
       "893   44122.362088  44202.65360\n",
       "807    3772.077914   2136.88225\n",
       "1165   5879.907581   5227.98875\n",
       "\n",
       "[268 rows x 2 columns]"
      ]
     },
     "execution_count": 48,
     "metadata": {},
     "output_type": "execute_result"
    }
   ],
   "source": [
    "# Comparing the predicted values to the actual values on Test Data.\n",
    "test_pred_gr = gr.predict(X_test)\n",
    "test_pred_gr_comparison = pd.DataFrame({\"Predicted\":test_pred_gr,\"Actual\":y_test})\n",
    "test_pred_gr_comparison"
   ]
  },
  {
   "cell_type": "code",
   "execution_count": 49,
   "metadata": {},
   "outputs": [],
   "source": [
    "# Comparing the predicted values to the actual values on Training Data.\n",
    "train_pred_gr = gr.predict(X_train)\n",
    "train_pred_gr_comparison = pd.DataFrame({\"Predicted\":train_pred_gr,\"Actual\":y_train})\n",
    "#train_pred_gr_comparison"
   ]
  },
  {
   "cell_type": "code",
   "execution_count": 50,
   "metadata": {},
   "outputs": [
    {
     "name": "stdout",
     "output_type": "stream",
     "text": [
      "\n",
      "Mean Absolute Error :  2568.071617251761\n",
      "\n",
      "Mean Squared Error :  20307967.031676657\n",
      "\n",
      "Root Mean Squared Error :  4506.436178586873\n",
      "\n",
      "Variance Score for the XG Gradient Boost Model :  0.8639611467052217\n"
     ]
    }
   ],
   "source": [
    "# Evaluating the model for accuracy on Test Data.\n",
    "print(\"\\nMean Absolute Error : \", metrics.mean_absolute_error(y_test, test_pred_gr))\n",
    "print(\"\\nMean Squared Error : \", metrics.mean_squared_error(y_test, test_pred_gr))\n",
    "print(\"\\nRoot Mean Squared Error : \", np.sqrt(metrics.mean_squared_error(y_test, test_pred_gr)))\n",
    "\n",
    "#Evaluating the variance score. (Note: score = 1 means perfect prediction.)\n",
    "gr_r2_test = format(gr.score(X_test, y_test))\n",
    "print(\"\\nVariance Score for the XG Gradient Boost Model : \",gr_r2_test)"
   ]
  },
  {
   "cell_type": "code",
   "execution_count": 51,
   "metadata": {},
   "outputs": [
    {
     "name": "stdout",
     "output_type": "stream",
     "text": [
      "\n",
      "Mean Absolute Error :  2159.7200011870955\n",
      "\n",
      "Mean Squared Error :  14881858.397710076\n",
      "\n",
      "Root Mean Squared Error :  3857.7011804583926\n",
      "\n",
      "Variance Score for the XG Gradient Boost Model :  0.8979638810259799\n"
     ]
    }
   ],
   "source": [
    "# Evaluating the model for accuracy on Training Data.\n",
    "print(\"\\nMean Absolute Error : \", metrics.mean_absolute_error(y_train, train_pred_gr))\n",
    "print(\"\\nMean Squared Error : \", metrics.mean_squared_error(y_train, train_pred_gr))\n",
    "print(\"\\nRoot Mean Squared Error : \", np.sqrt(metrics.mean_squared_error(y_train, train_pred_gr)))\n",
    "\n",
    "#Evaluating the variance score. (Note: score = 1 means perfect prediction.)\n",
    "gr_r2_train = format(gr.score(X_train, y_train))\n",
    "print(\"\\nVariance Score for the XG Gradient Boost Model : \", gr_r2_train)"
   ]
  },
  {
   "cell_type": "code",
   "execution_count": 52,
   "metadata": {},
   "outputs": [
    {
     "data": {
      "image/png": "[encoded data removed]",
      "text/plain": [
       "<Figure size 1152x360 with 1 Axes>"
      ]
     },
     "metadata": {},
     "output_type": "display_data"
    }
   ],
   "source": [
    "# Plotting for residual error.\n",
    "# Setting plot style.\n",
    "plt.style.use('fivethirtyeight')\n",
    "  \n",
    "# Plotting residual errors in training data.\n",
    "plt.scatter(gr.predict(X_train), gr.predict(X_train) - y_train,\n",
    "            color = \"green\", s = 1, label = 'Training Data')\n",
    "  \n",
    "# Plotting residual errors in test data.\n",
    "plt.scatter(gr.predict(X_test), gr.predict(X_test) - y_test,\n",
    "            color = \"blue\", s = 1, label = 'Test Data')\n",
    "  \n",
    "# Plotting line for zero residual error.\n",
    "plt.hlines(y = 0, xmin = 0, xmax = 5, linewidth = 2)\n",
    "  \n",
    "# Plotting the legend.\n",
    "plt.legend(loc = 'upper right')\n",
    "  \n",
    "# Plot the title.\n",
    "plt.title(\"Residual Errors, Model : XG Gradient Boost\")\n",
    "  \n",
    "# Method call for displaying the plot.\n",
    "plt.show()"
   ]
  },
  {
   "cell_type": "markdown",
   "metadata": {},
   "source": [
    "# Section-5 : Model Evaluation"
   ]
  },
  {
   "cell_type": "code",
   "execution_count": 187,
   "metadata": {},
   "outputs": [
    {
     "data": {
      "text/html": [
       "<div>\n",
       "<style scoped>\n",
       "    .dataframe tbody tr th:only-of-type {\n",
       "        vertical-align: middle;\n",
       "    }\n",
       "\n",
       "    .dataframe tbody tr th {\n",
       "        vertical-align: top;\n",
       "    }\n",
       "\n",
       "    .dataframe thead th {\n",
       "        text-align: right;\n",
       "    }\n",
       "</style>\n",
       "<table border=\"1\" class=\"dataframe\">\n",
       "  <thead>\n",
       "    <tr style=\"text-align: right;\">\n",
       "      <th></th>\n",
       "      <th>Models</th>\n",
       "      <th>Mean Absolute Error</th>\n",
       "      <th>Mean Squared Error</th>\n",
       "      <th>Root Mean Squared Error</th>\n",
       "    </tr>\n",
       "  </thead>\n",
       "  <tbody>\n",
       "    <tr>\n",
       "      <th>0</th>\n",
       "      <td>Linear Regression</td>\n",
       "      <td>13422.718318</td>\n",
       "      <td>2.859432e+08</td>\n",
       "      <td>16909.856356</td>\n",
       "    </tr>\n",
       "    <tr>\n",
       "      <th>1</th>\n",
       "      <td>Random Forest</td>\n",
       "      <td>14110.050923</td>\n",
       "      <td>3.333270e+08</td>\n",
       "      <td>18257.245147</td>\n",
       "    </tr>\n",
       "    <tr>\n",
       "      <th>2</th>\n",
       "      <td>Support Vector Machine</td>\n",
       "      <td>9306.094408</td>\n",
       "      <td>8.660999e+07</td>\n",
       "      <td>9306.448818</td>\n",
       "    </tr>\n",
       "    <tr>\n",
       "      <th>3</th>\n",
       "      <td>XG Gradient Boost</td>\n",
       "      <td>0.240261</td>\n",
       "      <td>1.316146e-01</td>\n",
       "      <td>0.362787</td>\n",
       "    </tr>\n",
       "  </tbody>\n",
       "</table>\n",
       "</div>"
      ],
      "text/plain": [
       "                   Models  Mean Absolute Error  Mean Squared Error  \\\n",
       "0       Linear Regression         13422.718318        2.859432e+08   \n",
       "1           Random Forest         14110.050923        3.333270e+08   \n",
       "2  Support Vector Machine          9306.094408        8.660999e+07   \n",
       "3       XG Gradient Boost             0.240261        1.316146e-01   \n",
       "\n",
       "   Root Mean Squared Error  \n",
       "0             16909.856356  \n",
       "1             18257.245147  \n",
       "2              9306.448818  \n",
       "3                 0.362787  "
      ]
     },
     "execution_count": 187,
     "metadata": {},
     "output_type": "execute_result"
    }
   ],
   "source": [
    "# Evaluating the model performance by comparing the MAE, MSE, RMSE Value on Test Data for the various models implemented.\n",
    "\n",
    "\n",
    "df_Metric = pd.DataFrame({\"Models\":['Linear Regression', 'Random Forest', 'Support Vector Machine', 'XG Gradient Boost'],\n",
    "                          \n",
    "                        \"Mean Absolute Error\":[metrics.mean_absolute_error(y_test, test_pred_lr),\n",
    "                                               metrics.mean_absolute_error(y_test, test_pred_rf),\n",
    "                                               metrics.mean_absolute_error(y_test, test_pred_svm),\n",
    "                                               metrics.mean_absolute_error(y_test, test_pred_gr)],                   \n",
    "                        \"Mean Squared Error\":[metrics.mean_squared_error(y_test, test_pred_lr),\n",
    "                                              metrics.mean_squared_error(y_test, test_pred_rf),\n",
    "                                              metrics.mean_squared_error(y_test, test_pred_svm),\n",
    "                                              metrics.mean_squared_error(y_test, test_pred_gr)],\n",
    "                          \n",
    "                        \"Root Mean Squared Error\":[np.sqrt(metrics.mean_squared_error(y_test, test_pred_lr)),\n",
    "                                                   np.sqrt(metrics.mean_squared_error(y_test, test_pred_rf)),\n",
    "                                                   np.sqrt(metrics.mean_squared_error(y_test, test_pred_svm)),\n",
    "                                                   np.sqrt(metrics.mean_squared_error(y_test, test_pred_gr))]})\n",
    "\n",
    "\n",
    "df_Metric"
   ]
  },
  {
   "cell_type": "code",
   "execution_count": 188,
   "metadata": {},
   "outputs": [
    {
     "data": {
      "text/html": [
       "<div>\n",
       "<style scoped>\n",
       "    .dataframe tbody tr th:only-of-type {\n",
       "        vertical-align: middle;\n",
       "    }\n",
       "\n",
       "    .dataframe tbody tr th {\n",
       "        vertical-align: top;\n",
       "    }\n",
       "\n",
       "    .dataframe thead th {\n",
       "        text-align: right;\n",
       "    }\n",
       "</style>\n",
       "<table border=\"1\" class=\"dataframe\">\n",
       "  <thead>\n",
       "    <tr style=\"text-align: right;\">\n",
       "      <th></th>\n",
       "      <th>Models</th>\n",
       "      <th>R2 Value on Test Data</th>\n",
       "      <th>R2 Value on Training Data</th>\n",
       "    </tr>\n",
       "  </thead>\n",
       "  <tbody>\n",
       "    <tr>\n",
       "      <th>0</th>\n",
       "      <td>Linear Regression</td>\n",
       "      <td>0.7694486636353987</td>\n",
       "      <td>0.7545391474616814</td>\n",
       "    </tr>\n",
       "    <tr>\n",
       "      <th>1</th>\n",
       "      <td>Random Forest</td>\n",
       "      <td>0.8307472875655086</td>\n",
       "      <td>0.9757259631994993</td>\n",
       "    </tr>\n",
       "    <tr>\n",
       "      <th>2</th>\n",
       "      <td>Support Vector Machine</td>\n",
       "      <td>-0.10924390858652555</td>\n",
       "      <td>-0.10145299995792745</td>\n",
       "    </tr>\n",
       "    <tr>\n",
       "      <th>3</th>\n",
       "      <td>XG Gradient Boost</td>\n",
       "      <td>0.44576198405253287</td>\n",
       "      <td>0.9373006959941828</td>\n",
       "    </tr>\n",
       "  </tbody>\n",
       "</table>\n",
       "</div>"
      ],
      "text/plain": [
       "                   Models R2 Value on Test Data R2 Value on Training Data\n",
       "0       Linear Regression    0.7694486636353987        0.7545391474616814\n",
       "1           Random Forest    0.8307472875655086        0.9757259631994993\n",
       "2  Support Vector Machine  -0.10924390858652555      -0.10145299995792745\n",
       "3       XG Gradient Boost   0.44576198405253287        0.9373006959941828"
      ]
     },
     "execution_count": 188,
     "metadata": {},
     "output_type": "execute_result"
    }
   ],
   "source": [
    "# Evaluating the model performance by comparing the R2 Value on Test Data and Training Data, for the various models implemented.\n",
    "df_R2 = pd.DataFrame({\"Models\":['Linear Regression', 'Random Forest', 'Support Vector Machine', 'XG Gradient Boost'],\n",
    "                        \"R2 Value on Test Data\":[r2_lr_test,r2_rf_test,svm_r2_test,gr_r2_test],\n",
    "                        \"R2 Value on Training Data\":[r2_lr_train,r2_rf_train,svm_r2_train,gr_r2_train]})\n",
    "df_R2"
   ]
  },
  {
   "cell_type": "code",
   "execution_count": 102,
   "metadata": {},
   "outputs": [
    {
     "data": {
      "text/plain": [
       "<matplotlib.legend.Legend at 0x1c1663c6bb0>"
      ]
     },
     "execution_count": 102,
     "metadata": {},
     "output_type": "execute_result"
    },
    {
     "data": {
      "image/png": "[encoded data removed]",
      "text/plain": [
       "<Figure size 1152x360 with 1 Axes>"
      ]
     },
     "metadata": {},
     "output_type": "display_data"
    }
   ],
   "source": [
    "# Plotting the R2 Value on Test Data and Training Data, to make a visual inference.\n",
    "df_R2['Test Data'] = pd.to_numeric(df_R2['Test Data'])\n",
    "df_R2['Training Data'] = pd.to_numeric(df_R2['Training Data'])\n",
    "plt.rcParams['figure.figsize'] = (16,5)\n",
    "plt.title('R2 Value on Test Data and Training Data')\n",
    "plt.xlabel('Models Implemented') \n",
    "plt.ylabel('R2 Value') \n",
    "plt.plot(df_R2['Models'], df_R2['Test Data'] , color = 'blue', label = 'Test Data') # Test Data Set \n",
    "plt.plot(df_R2['Models'], df_R2['Training Data'] , color = 'green', label = 'Train Data') # Train Data Set\n",
    "plt.legend(loc = \"center right\")"
   ]
  },
  {
   "cell_type": "code",
   "execution_count": 88,
   "metadata": {},
   "outputs": [
    {
     "data": {
      "text/html": [
       "<div>\n",
       "<style scoped>\n",
       "    .dataframe tbody tr th:only-of-type {\n",
       "        vertical-align: middle;\n",
       "    }\n",
       "\n",
       "    .dataframe tbody tr th {\n",
       "        vertical-align: top;\n",
       "    }\n",
       "\n",
       "    .dataframe thead th {\n",
       "        text-align: right;\n",
       "    }\n",
       "</style>\n",
       "<table border=\"1\" class=\"dataframe\">\n",
       "  <thead>\n",
       "    <tr style=\"text-align: right;\">\n",
       "      <th></th>\n",
       "      <th>Actual</th>\n",
       "      <th>Linear Regression</th>\n",
       "      <th>Random Forest</th>\n",
       "      <th>Support Vector Machine</th>\n",
       "      <th>XG Gradient Boost</th>\n",
       "    </tr>\n",
       "  </thead>\n",
       "  <tbody>\n",
       "    <tr>\n",
       "      <th>559</th>\n",
       "      <td>1646.4297</td>\n",
       "      <td>3476.298040</td>\n",
       "      <td>3746.036040</td>\n",
       "      <td>9377.280450</td>\n",
       "      <td>3612.718475</td>\n",
       "    </tr>\n",
       "    <tr>\n",
       "      <th>1087</th>\n",
       "      <td>11353.2276</td>\n",
       "      <td>11779.596268</td>\n",
       "      <td>11975.351744</td>\n",
       "      <td>9377.257365</td>\n",
       "      <td>12983.225790</td>\n",
       "    </tr>\n",
       "    <tr>\n",
       "      <th>1020</th>\n",
       "      <td>8798.5930</td>\n",
       "      <td>13552.620748</td>\n",
       "      <td>10840.002868</td>\n",
       "      <td>9361.993156</td>\n",
       "      <td>11102.033513</td>\n",
       "    </tr>\n",
       "    <tr>\n",
       "      <th>460</th>\n",
       "      <td>10381.4787</td>\n",
       "      <td>12126.734908</td>\n",
       "      <td>10285.817713</td>\n",
       "      <td>9377.246878</td>\n",
       "      <td>11301.404305</td>\n",
       "    </tr>\n",
       "    <tr>\n",
       "      <th>802</th>\n",
       "      <td>2103.0800</td>\n",
       "      <td>2446.108955</td>\n",
       "      <td>4232.215442</td>\n",
       "      <td>9165.084649</td>\n",
       "      <td>5726.863461</td>\n",
       "    </tr>\n",
       "  </tbody>\n",
       "</table>\n",
       "</div>"
      ],
      "text/plain": [
       "          Actual  Linear Regression  Random Forest  Support Vector Machine  \\\n",
       "559    1646.4297        3476.298040    3746.036040             9377.280450   \n",
       "1087  11353.2276       11779.596268   11975.351744             9377.257365   \n",
       "1020   8798.5930       13552.620748   10840.002868             9361.993156   \n",
       "460   10381.4787       12126.734908   10285.817713             9377.246878   \n",
       "802    2103.0800        2446.108955    4232.215442             9165.084649   \n",
       "\n",
       "      XG Gradient Boost  \n",
       "559         3612.718475  \n",
       "1087       12983.225790  \n",
       "1020       11102.033513  \n",
       "460        11301.404305  \n",
       "802         5726.863461  "
      ]
     },
     "execution_count": 88,
     "metadata": {},
     "output_type": "execute_result"
    }
   ],
   "source": [
    "# Summary of prediction on Test Data.\n",
    "df_summary = pd.DataFrame({'Actual':y_test,'Linear Regression':test_pred_lr, 'Random Forest':test_pred_rf,\n",
    "                           'Support Vector Machine':test_pred_svm, 'XG Gradient Boost':test_pred_gr})\n",
    "df_summary.head()"
   ]
  },
  {
   "cell_type": "markdown",
   "metadata": {},
   "source": [
    "# Predicting the Insurance Charges for a New Customer using the best model - XG Gradient Boost"
   ]
  },
  {
   "cell_type": "code",
   "execution_count": 104,
   "metadata": {},
   "outputs": [
    {
     "data": {
      "text/html": [
       "<div>\n",
       "<style scoped>\n",
       "    .dataframe tbody tr th:only-of-type {\n",
       "        vertical-align: middle;\n",
       "    }\n",
       "\n",
       "    .dataframe tbody tr th {\n",
       "        vertical-align: top;\n",
       "    }\n",
       "\n",
       "    .dataframe thead th {\n",
       "        text-align: right;\n",
       "    }\n",
       "</style>\n",
       "<table border=\"1\" class=\"dataframe\">\n",
       "  <thead>\n",
       "    <tr style=\"text-align: right;\">\n",
       "      <th></th>\n",
       "      <th>age</th>\n",
       "      <th>bmi</th>\n",
       "      <th>steps</th>\n",
       "      <th>smoker</th>\n",
       "    </tr>\n",
       "  </thead>\n",
       "  <tbody>\n",
       "    <tr>\n",
       "      <th>0</th>\n",
       "      <td>27</td>\n",
       "      <td>22</td>\n",
       "      <td>9855</td>\n",
       "      <td>0</td>\n",
       "    </tr>\n",
       "  </tbody>\n",
       "</table>\n",
       "</div>"
      ],
      "text/plain": [
       "   age  bmi  steps  smoker\n",
       "0   27   22   9855       0"
      ]
     },
     "execution_count": 104,
     "metadata": {},
     "output_type": "execute_result"
    }
   ],
   "source": [
    "# Predicting the Insurance Charges for a New Customer.\n",
    "data_new = {'age' : 27, 'bmi' : 22, 'steps' : 9855, 'smoker' : 0}\n",
    "df_new = pd.DataFrame(data_new,index=[0])\n",
    "df_new"
   ]
  },
  {
   "cell_type": "code",
   "execution_count": 105,
   "metadata": {
    "scrolled": true
   },
   "outputs": [
    {
     "name": "stdout",
     "output_type": "stream",
     "text": [
      "\n",
      "The Insurance Charges for the new customer is : $ 4869.6949737933355\n"
     ]
    }
   ],
   "source": [
    "new_pred = gr.predict(df_new)\n",
    "print(\"\\nThe Insurance Charges for the new customer is : $\", new_pred[0])"
   ]
  },
  {
   "cell_type": "markdown",
   "metadata": {},
   "source": [
    "# Predicting the Insurance Claim for a New Customer using the best model out of XG Gradient Boost, Random Forest"
   ]
  },
  {
   "cell_type": "code",
   "execution_count": 111,
   "metadata": {},
   "outputs": [],
   "source": [
    "# Set up the dependent and the independent variables by dropping the Target Variable from the data frame.\n",
    "\n",
    "# The independent variables that are being used for model builiding are : \n",
    "# 1. age\n",
    "# 2. bmi\n",
    "# 3. steps\n",
    "# 4. smoker_yes \n",
    "# 5. charges\n",
    "\n",
    "# The target variable is : insuranceclaim\n",
    "\n",
    "# X = Independent Variables/Feature Matrix\n",
    "# y = Taget Variable/Response Vector\n",
    "\n",
    "X = data.drop(['sex', 'children', 'region', 'insuranceclaim'],axis=1)\n",
    "y = data['insuranceclaim']"
   ]
  },
  {
   "cell_type": "code",
   "execution_count": 112,
   "metadata": {},
   "outputs": [
    {
     "data": {
      "text/html": [
       "<div>\n",
       "<style scoped>\n",
       "    .dataframe tbody tr th:only-of-type {\n",
       "        vertical-align: middle;\n",
       "    }\n",
       "\n",
       "    .dataframe tbody tr th {\n",
       "        vertical-align: top;\n",
       "    }\n",
       "\n",
       "    .dataframe thead th {\n",
       "        text-align: right;\n",
       "    }\n",
       "</style>\n",
       "<table border=\"1\" class=\"dataframe\">\n",
       "  <thead>\n",
       "    <tr style=\"text-align: right;\">\n",
       "      <th></th>\n",
       "      <th>age</th>\n",
       "      <th>bmi</th>\n",
       "      <th>steps</th>\n",
       "      <th>smoker</th>\n",
       "      <th>charges</th>\n",
       "    </tr>\n",
       "  </thead>\n",
       "  <tbody>\n",
       "    <tr>\n",
       "      <th>0</th>\n",
       "      <td>19</td>\n",
       "      <td>27.900</td>\n",
       "      <td>3009</td>\n",
       "      <td>1</td>\n",
       "      <td>16884.92400</td>\n",
       "    </tr>\n",
       "    <tr>\n",
       "      <th>1</th>\n",
       "      <td>18</td>\n",
       "      <td>33.770</td>\n",
       "      <td>3008</td>\n",
       "      <td>0</td>\n",
       "      <td>1725.55230</td>\n",
       "    </tr>\n",
       "    <tr>\n",
       "      <th>2</th>\n",
       "      <td>28</td>\n",
       "      <td>33.000</td>\n",
       "      <td>3009</td>\n",
       "      <td>0</td>\n",
       "      <td>4449.46200</td>\n",
       "    </tr>\n",
       "    <tr>\n",
       "      <th>3</th>\n",
       "      <td>33</td>\n",
       "      <td>22.705</td>\n",
       "      <td>10009</td>\n",
       "      <td>0</td>\n",
       "      <td>21984.47061</td>\n",
       "    </tr>\n",
       "    <tr>\n",
       "      <th>4</th>\n",
       "      <td>32</td>\n",
       "      <td>28.880</td>\n",
       "      <td>8010</td>\n",
       "      <td>0</td>\n",
       "      <td>3866.85520</td>\n",
       "    </tr>\n",
       "  </tbody>\n",
       "</table>\n",
       "</div>"
      ],
      "text/plain": [
       "   age     bmi  steps  smoker      charges\n",
       "0   19  27.900   3009       1  16884.92400\n",
       "1   18  33.770   3008       0   1725.55230\n",
       "2   28  33.000   3009       0   4449.46200\n",
       "3   33  22.705  10009       0  21984.47061\n",
       "4   32  28.880   8010       0   3866.85520"
      ]
     },
     "execution_count": 112,
     "metadata": {},
     "output_type": "execute_result"
    }
   ],
   "source": [
    "# Making a copy of the attribute truncated complete dataset.\n",
    "data_trunc_2 = X\n",
    "data_trunc_2.head()"
   ]
  },
  {
   "cell_type": "code",
   "execution_count": 116,
   "metadata": {},
   "outputs": [
    {
     "data": {
      "text/html": [
       "<div>\n",
       "<style scoped>\n",
       "    .dataframe tbody tr th:only-of-type {\n",
       "        vertical-align: middle;\n",
       "    }\n",
       "\n",
       "    .dataframe tbody tr th {\n",
       "        vertical-align: top;\n",
       "    }\n",
       "\n",
       "    .dataframe thead th {\n",
       "        text-align: right;\n",
       "    }\n",
       "</style>\n",
       "<table border=\"1\" class=\"dataframe\">\n",
       "  <thead>\n",
       "    <tr style=\"text-align: right;\">\n",
       "      <th></th>\n",
       "      <th>age</th>\n",
       "      <th>bmi</th>\n",
       "      <th>steps</th>\n",
       "      <th>smoker</th>\n",
       "      <th>charges</th>\n",
       "    </tr>\n",
       "  </thead>\n",
       "  <tbody>\n",
       "    <tr>\n",
       "      <th>0</th>\n",
       "      <td>19</td>\n",
       "      <td>27.900</td>\n",
       "      <td>3009</td>\n",
       "      <td>1</td>\n",
       "      <td>16884.92400</td>\n",
       "    </tr>\n",
       "    <tr>\n",
       "      <th>1</th>\n",
       "      <td>18</td>\n",
       "      <td>33.770</td>\n",
       "      <td>3008</td>\n",
       "      <td>0</td>\n",
       "      <td>1725.55230</td>\n",
       "    </tr>\n",
       "    <tr>\n",
       "      <th>2</th>\n",
       "      <td>28</td>\n",
       "      <td>33.000</td>\n",
       "      <td>3009</td>\n",
       "      <td>0</td>\n",
       "      <td>4449.46200</td>\n",
       "    </tr>\n",
       "    <tr>\n",
       "      <th>3</th>\n",
       "      <td>33</td>\n",
       "      <td>22.705</td>\n",
       "      <td>10009</td>\n",
       "      <td>0</td>\n",
       "      <td>21984.47061</td>\n",
       "    </tr>\n",
       "    <tr>\n",
       "      <th>4</th>\n",
       "      <td>32</td>\n",
       "      <td>28.880</td>\n",
       "      <td>8010</td>\n",
       "      <td>0</td>\n",
       "      <td>3866.85520</td>\n",
       "    </tr>\n",
       "  </tbody>\n",
       "</table>\n",
       "</div>"
      ],
      "text/plain": [
       "   age     bmi  steps  smoker      charges\n",
       "0   19  27.900   3009       1  16884.92400\n",
       "1   18  33.770   3008       0   1725.55230\n",
       "2   28  33.000   3009       0   4449.46200\n",
       "3   33  22.705  10009       0  21984.47061\n",
       "4   32  28.880   8010       0   3866.85520"
      ]
     },
     "execution_count": 116,
     "metadata": {},
     "output_type": "execute_result"
    }
   ],
   "source": [
    "X.head()"
   ]
  },
  {
   "cell_type": "code",
   "execution_count": 117,
   "metadata": {},
   "outputs": [
    {
     "data": {
      "text/plain": [
       "0    1\n",
       "1    1\n",
       "2    0\n",
       "3    0\n",
       "4    1\n",
       "Name: insuranceclaim, dtype: int64"
      ]
     },
     "execution_count": 117,
     "metadata": {},
     "output_type": "execute_result"
    }
   ],
   "source": [
    "y.head()"
   ]
  },
  {
   "cell_type": "code",
   "execution_count": 118,
   "metadata": {},
   "outputs": [],
   "source": [
    "# Splitting the data : X and y into Training Data and Test Data.\n",
    "from sklearn.model_selection import train_test_split\n",
    "X_train,X_test,y_train,y_test=train_test_split(X,y,test_size=0.2,random_state=1)"
   ]
  },
  {
   "cell_type": "code",
   "execution_count": 119,
   "metadata": {},
   "outputs": [
    {
     "name": "stdout",
     "output_type": "stream",
     "text": [
      "(1070, 5)\n",
      "(268, 5)\n",
      "(1070,)\n",
      "(268,)\n"
     ]
    }
   ],
   "source": [
    "# Having a glance at the shape of the Training Data and the Test Data.\n",
    "print(X_train.shape)\n",
    "print(X_test.shape)\n",
    "print(y_train.shape)\n",
    "print(y_test.shape)"
   ]
  },
  {
   "cell_type": "markdown",
   "metadata": {},
   "source": [
    "# 1. XG Gradient Boosting"
   ]
  },
  {
   "cell_type": "code",
   "execution_count": 206,
   "metadata": {},
   "outputs": [
    {
     "data": {
      "text/plain": [
       "GradientBoostingRegressor()"
      ]
     },
     "execution_count": 206,
     "metadata": {},
     "output_type": "execute_result"
    }
   ],
   "source": [
    "# Creating a Gradient Boost object.\n",
    "gr2 = GradientBoostingRegressor()\n",
    "\n",
    "# Training the XG Gradient Boost using the Training Data.\n",
    "gr2.fit(X_train,y_train)"
   ]
  },
  {
   "cell_type": "code",
   "execution_count": 207,
   "metadata": {},
   "outputs": [
    {
     "data": {
      "text/html": [
       "<div>\n",
       "<style scoped>\n",
       "    .dataframe tbody tr th:only-of-type {\n",
       "        vertical-align: middle;\n",
       "    }\n",
       "\n",
       "    .dataframe tbody tr th {\n",
       "        vertical-align: top;\n",
       "    }\n",
       "\n",
       "    .dataframe thead th {\n",
       "        text-align: right;\n",
       "    }\n",
       "</style>\n",
       "<table border=\"1\" class=\"dataframe\">\n",
       "  <thead>\n",
       "    <tr style=\"text-align: right;\">\n",
       "      <th></th>\n",
       "      <th>Predicted</th>\n",
       "      <th>Actual</th>\n",
       "    </tr>\n",
       "  </thead>\n",
       "  <tbody>\n",
       "    <tr>\n",
       "      <th>559</th>\n",
       "      <td>0.987486</td>\n",
       "      <td>1</td>\n",
       "    </tr>\n",
       "    <tr>\n",
       "      <th>1087</th>\n",
       "      <td>0.850194</td>\n",
       "      <td>1</td>\n",
       "    </tr>\n",
       "    <tr>\n",
       "      <th>1020</th>\n",
       "      <td>0.715863</td>\n",
       "      <td>1</td>\n",
       "    </tr>\n",
       "    <tr>\n",
       "      <th>460</th>\n",
       "      <td>0.788071</td>\n",
       "      <td>0</td>\n",
       "    </tr>\n",
       "    <tr>\n",
       "      <th>802</th>\n",
       "      <td>0.063234</td>\n",
       "      <td>0</td>\n",
       "    </tr>\n",
       "    <tr>\n",
       "      <th>...</th>\n",
       "      <td>...</td>\n",
       "      <td>...</td>\n",
       "    </tr>\n",
       "    <tr>\n",
       "      <th>682</th>\n",
       "      <td>0.998811</td>\n",
       "      <td>1</td>\n",
       "    </tr>\n",
       "    <tr>\n",
       "      <th>629</th>\n",
       "      <td>1.043760</td>\n",
       "      <td>1</td>\n",
       "    </tr>\n",
       "    <tr>\n",
       "      <th>893</th>\n",
       "      <td>1.051267</td>\n",
       "      <td>1</td>\n",
       "    </tr>\n",
       "    <tr>\n",
       "      <th>807</th>\n",
       "      <td>0.932392</td>\n",
       "      <td>1</td>\n",
       "    </tr>\n",
       "    <tr>\n",
       "      <th>1165</th>\n",
       "      <td>0.204617</td>\n",
       "      <td>1</td>\n",
       "    </tr>\n",
       "  </tbody>\n",
       "</table>\n",
       "<p>268 rows × 2 columns</p>\n",
       "</div>"
      ],
      "text/plain": [
       "      Predicted  Actual\n",
       "559    0.987486       1\n",
       "1087   0.850194       1\n",
       "1020   0.715863       1\n",
       "460    0.788071       0\n",
       "802    0.063234       0\n",
       "...         ...     ...\n",
       "682    0.998811       1\n",
       "629    1.043760       1\n",
       "893    1.051267       1\n",
       "807    0.932392       1\n",
       "1165   0.204617       1\n",
       "\n",
       "[268 rows x 2 columns]"
      ]
     },
     "execution_count": 207,
     "metadata": {},
     "output_type": "execute_result"
    }
   ],
   "source": [
    "# Comparing the predicted values to the actual values on Test Data.\n",
    "test_pred_gr = gr2.predict(X_test)\n",
    "test_pred_gr_comparison = pd.DataFrame({\"Predicted\":test_pred_gr,\"Actual\":y_test})\n",
    "test_pred_gr_comparison"
   ]
  },
  {
   "cell_type": "code",
   "execution_count": 208,
   "metadata": {},
   "outputs": [],
   "source": [
    "# Comparing the predicted values to the actual values on Training Data.\n",
    "train_pred_gr = gr2.predict(X_train)\n",
    "train_pred_gr_comparison = pd.DataFrame({\"Predicted\":train_pred_gr,\"Actual\":y_train})\n",
    "#train_pred_gr_comparison"
   ]
  },
  {
   "cell_type": "code",
   "execution_count": 209,
   "metadata": {},
   "outputs": [
    {
     "name": "stdout",
     "output_type": "stream",
     "text": [
      "\n",
      "Mean Absolute Error :  0.2894730320749571\n",
      "\n",
      "Mean Squared Error :  0.14009333793799206\n",
      "\n",
      "Root Mean Squared Error :  0.3742904459614112\n",
      "\n",
      "Variance Score for the XG Gradient Boost Model :  0.44576198405253287\n"
     ]
    }
   ],
   "source": [
    "# Evaluating the model for accuracy on Test Data.\n",
    "print(\"\\nMean Absolute Error : \", metrics.mean_absolute_error(y_test, test_pred_gr))\n",
    "print(\"\\nMean Squared Error : \", metrics.mean_squared_error(y_test, test_pred_gr))\n",
    "print(\"\\nRoot Mean Squared Error : \", np.sqrt(metrics.mean_squared_error(y_test, test_pred_gr)))\n",
    "\n",
    "#Evaluating the variance score. (Note: score = 1 means perfect prediction.)\n",
    "gr_r2_test = format(gr.score(X_test, y_test))\n",
    "print(\"\\nVariance Score for the XG Gradient Boost Model : \",gr_r2_test)"
   ]
  },
  {
   "cell_type": "code",
   "execution_count": 210,
   "metadata": {},
   "outputs": [
    {
     "name": "stdout",
     "output_type": "stream",
     "text": [
      "\n",
      "Mean Absolute Error :  0.21480845631055148\n",
      "\n",
      "Mean Squared Error :  0.08077730441252443\n",
      "\n",
      "Root Mean Squared Error :  0.2842134838682437\n",
      "\n",
      "Variance Score for the XG Gradient Boost Model :  0.9373006959941828\n"
     ]
    }
   ],
   "source": [
    "# Evaluating the model for accuracy on Training Data.\n",
    "print(\"\\nMean Absolute Error : \", metrics.mean_absolute_error(y_train, train_pred_gr))\n",
    "print(\"\\nMean Squared Error : \", metrics.mean_squared_error(y_train, train_pred_gr))\n",
    "print(\"\\nRoot Mean Squared Error : \", np.sqrt(metrics.mean_squared_error(y_train, train_pred_gr)))\n",
    "\n",
    "#Evaluating the variance score. (Note: score = 1 means perfect prediction.)\n",
    "gr_r2_train = format(gr.score(X_train, y_train))\n",
    "print(\"\\nVariance Score for the XG Gradient Boost Model : \", gr_r2_train)"
   ]
  },
  {
   "cell_type": "code",
   "execution_count": 211,
   "metadata": {},
   "outputs": [
    {
     "data": {
      "image/png": "[encoded data removed]",
      "text/plain": [
       "<Figure size 1152x360 with 1 Axes>"
      ]
     },
     "metadata": {},
     "output_type": "display_data"
    }
   ],
   "source": [
    "# Plotting for residual error.\n",
    "# Setting plot style.\n",
    "plt.style.use('fivethirtyeight')\n",
    "  \n",
    "# Plotting residual errors in training data.\n",
    "plt.scatter(gr.predict(X_train), gr.predict(X_train) - y_train,\n",
    "            color = \"green\", s = 1, label = 'Training Data')\n",
    "  \n",
    "# Plotting residual errors in test data.\n",
    "plt.scatter(gr.predict(X_test), gr.predict(X_test) - y_test,\n",
    "            color = \"blue\", s = 1, label = 'Test Data')\n",
    "  \n",
    "# Plotting line for zero residual error.\n",
    "plt.hlines(y = 0, xmin = 0, xmax = 5, linewidth = 2)\n",
    "  \n",
    "# Plotting the legend.\n",
    "plt.legend(loc = 'upper right')\n",
    "  \n",
    "# Plot the title.\n",
    "plt.title(\"Residual Errors, Model : XG Gradient Boost\")\n",
    "  \n",
    "# Method call for displaying the plot.\n",
    "plt.show()"
   ]
  },
  {
   "cell_type": "markdown",
   "metadata": {},
   "source": [
    "# 2. Random Forest"
   ]
  },
  {
   "cell_type": "code",
   "execution_count": 212,
   "metadata": {},
   "outputs": [
    {
     "data": {
      "text/plain": [
       "RandomForestRegressor()"
      ]
     },
     "execution_count": 212,
     "metadata": {},
     "output_type": "execute_result"
    }
   ],
   "source": [
    "# Creating a Random Forest object.\n",
    "random_for2 = RandomForestRegressor()\n",
    "\n",
    "# Training the Linear Regression model using the Training Data.\n",
    "random_for2.fit(X_train,y_train)"
   ]
  },
  {
   "cell_type": "code",
   "execution_count": 213,
   "metadata": {},
   "outputs": [
    {
     "data": {
      "text/html": [
       "<div>\n",
       "<style scoped>\n",
       "    .dataframe tbody tr th:only-of-type {\n",
       "        vertical-align: middle;\n",
       "    }\n",
       "\n",
       "    .dataframe tbody tr th {\n",
       "        vertical-align: top;\n",
       "    }\n",
       "\n",
       "    .dataframe thead th {\n",
       "        text-align: right;\n",
       "    }\n",
       "</style>\n",
       "<table border=\"1\" class=\"dataframe\">\n",
       "  <thead>\n",
       "    <tr style=\"text-align: right;\">\n",
       "      <th></th>\n",
       "      <th>Predicted</th>\n",
       "      <th>Actual</th>\n",
       "    </tr>\n",
       "  </thead>\n",
       "  <tbody>\n",
       "    <tr>\n",
       "      <th>559</th>\n",
       "      <td>1.00</td>\n",
       "      <td>1</td>\n",
       "    </tr>\n",
       "    <tr>\n",
       "      <th>1087</th>\n",
       "      <td>0.89</td>\n",
       "      <td>1</td>\n",
       "    </tr>\n",
       "    <tr>\n",
       "      <th>1020</th>\n",
       "      <td>0.98</td>\n",
       "      <td>1</td>\n",
       "    </tr>\n",
       "    <tr>\n",
       "      <th>460</th>\n",
       "      <td>0.72</td>\n",
       "      <td>0</td>\n",
       "    </tr>\n",
       "    <tr>\n",
       "      <th>802</th>\n",
       "      <td>0.00</td>\n",
       "      <td>0</td>\n",
       "    </tr>\n",
       "    <tr>\n",
       "      <th>...</th>\n",
       "      <td>...</td>\n",
       "      <td>...</td>\n",
       "    </tr>\n",
       "    <tr>\n",
       "      <th>682</th>\n",
       "      <td>1.00</td>\n",
       "      <td>1</td>\n",
       "    </tr>\n",
       "    <tr>\n",
       "      <th>629</th>\n",
       "      <td>1.00</td>\n",
       "      <td>1</td>\n",
       "    </tr>\n",
       "    <tr>\n",
       "      <th>893</th>\n",
       "      <td>1.00</td>\n",
       "      <td>1</td>\n",
       "    </tr>\n",
       "    <tr>\n",
       "      <th>807</th>\n",
       "      <td>1.00</td>\n",
       "      <td>1</td>\n",
       "    </tr>\n",
       "    <tr>\n",
       "      <th>1165</th>\n",
       "      <td>0.49</td>\n",
       "      <td>1</td>\n",
       "    </tr>\n",
       "  </tbody>\n",
       "</table>\n",
       "<p>268 rows × 2 columns</p>\n",
       "</div>"
      ],
      "text/plain": [
       "      Predicted  Actual\n",
       "559        1.00       1\n",
       "1087       0.89       1\n",
       "1020       0.98       1\n",
       "460        0.72       0\n",
       "802        0.00       0\n",
       "...         ...     ...\n",
       "682        1.00       1\n",
       "629        1.00       1\n",
       "893        1.00       1\n",
       "807        1.00       1\n",
       "1165       0.49       1\n",
       "\n",
       "[268 rows x 2 columns]"
      ]
     },
     "execution_count": 213,
     "metadata": {},
     "output_type": "execute_result"
    }
   ],
   "source": [
    "# Comparing the predicted values to the actual values on Test Data.\n",
    "test_pred_rf = random_for2.predict(X_test)\n",
    "test_pred_rf_comparison = pd.DataFrame({\"Predicted\":test_pred_rf,\"Actual\":y_test})\n",
    "test_pred_rf_comparison"
   ]
  },
  {
   "cell_type": "code",
   "execution_count": 214,
   "metadata": {},
   "outputs": [],
   "source": [
    "# Comparing the predicted values to the actual values on Training Data.\n",
    "train_pred_rf = random_for2.predict(X_train)\n",
    "train_pred_rf_comparison = pd.DataFrame({\"Predicted\":train_pred_rf,\"Actual\":y_train})\n",
    "#train_pred_rf_comparison"
   ]
  },
  {
   "cell_type": "code",
   "execution_count": 215,
   "metadata": {},
   "outputs": [
    {
     "name": "stdout",
     "output_type": "stream",
     "text": [
      "\n",
      "Mean Absolute Error :  0.24406716417910446\n",
      "\n",
      "Mean Squared Error :  0.13637201492537313\n",
      "\n",
      "Root Mean Squared Error :  0.369285817389963\n",
      "\n",
      "Variance Score for the Random Forest Model :  0.4353741557223265\n"
     ]
    }
   ],
   "source": [
    "# Evaluating the model for accuracy on Test Data.\n",
    "print(\"\\nMean Absolute Error : \", metrics.mean_absolute_error(y_test, test_pred_rf))\n",
    "print(\"\\nMean Squared Error : \", metrics.mean_squared_error(y_test, test_pred_rf))\n",
    "print(\"\\nRoot Mean Squared Error : \", np.sqrt(metrics.mean_squared_error(y_test, test_pred_rf)))\n",
    "\n",
    "#Evaluating the variance score. (Note: score = 1 means perfect prediction.)\n",
    "r2_rf_test = format(random_for.score(X_test, y_test))\n",
    "print(\"\\nVariance Score for the Random Forest Model : \",r2_rf_test)"
   ]
  },
  {
   "cell_type": "code",
   "execution_count": 216,
   "metadata": {},
   "outputs": [
    {
     "name": "stdout",
     "output_type": "stream",
     "text": [
      "\n",
      "Mean Absolute Error :  0.08030841121495327\n",
      "\n",
      "Mean Squared Error :  0.015807383177570095\n",
      "\n",
      "Root Mean Squared Error :  0.1257274161731247\n",
      "\n",
      "Variance Score for the Random Forest Model :  0.9362873026732911\n"
     ]
    }
   ],
   "source": [
    "# Evaluating the model for accuracy on Training Data to identify overfitting (if any.)\n",
    "print(\"\\nMean Absolute Error : \", metrics.mean_absolute_error(y_train, train_pred_rf))\n",
    "print(\"\\nMean Squared Error : \", metrics.mean_squared_error(y_train, train_pred_rf))\n",
    "print(\"\\nRoot Mean Squared Error : \", np.sqrt(metrics.mean_squared_error(y_train, train_pred_rf)))\n",
    "\n",
    "#Evaluating the variance score. (Note: score = 1 means perfect prediction.)\n",
    "r2_rf_train = format(random_for.score(X_train, y_train))\n",
    "print(\"\\nVariance Score for the Random Forest Model : \",r2_rf_train)"
   ]
  },
  {
   "cell_type": "code",
   "execution_count": 217,
   "metadata": {},
   "outputs": [
    {
     "data": {
      "image/png": "[encoded data removed]",
      "text/plain": [
       "<Figure size 1152x360 with 1 Axes>"
      ]
     },
     "metadata": {},
     "output_type": "display_data"
    }
   ],
   "source": [
    "# Plotting for residual error.\n",
    "# Setting plot style.\n",
    "plt.style.use('fivethirtyeight')\n",
    "  \n",
    "# Plotting residual errors in training data.\n",
    "plt.scatter(random_for.predict(X_train), random_for.predict(X_train) - y_train,\n",
    "            color = \"green\", s = 1, label = 'Training Data')\n",
    "  \n",
    "# Plotting residual errors in test data.\n",
    "plt.scatter(random_for.predict(X_test), random_for.predict(X_test) - y_test,\n",
    "            color = \"blue\", s = 1, label = 'Test Data')\n",
    "  \n",
    "# Plotting line for zero residual error.\n",
    "plt.hlines(y = 0, xmin = 0, xmax = 5, linewidth = 2)\n",
    "  \n",
    "# Plotting the legend.\n",
    "plt.legend(loc = 'upper right')\n",
    "  \n",
    "# Plot the title.\n",
    "plt.title(\"Residual Errors, Model : Random Forest\")\n",
    "  \n",
    "# Method call for displaying the plot.\n",
    "plt.show()"
   ]
  },
  {
   "cell_type": "markdown",
   "metadata": {},
   "source": [
    "# Model Evaluation\n"
   ]
  },
  {
   "cell_type": "code",
   "execution_count": 218,
   "metadata": {},
   "outputs": [
    {
     "data": {
      "text/html": [
       "<div>\n",
       "<style scoped>\n",
       "    .dataframe tbody tr th:only-of-type {\n",
       "        vertical-align: middle;\n",
       "    }\n",
       "\n",
       "    .dataframe tbody tr th {\n",
       "        vertical-align: top;\n",
       "    }\n",
       "\n",
       "    .dataframe thead th {\n",
       "        text-align: right;\n",
       "    }\n",
       "</style>\n",
       "<table border=\"1\" class=\"dataframe\">\n",
       "  <thead>\n",
       "    <tr style=\"text-align: right;\">\n",
       "      <th></th>\n",
       "      <th>Models</th>\n",
       "      <th>R2 Value on Test Data</th>\n",
       "      <th>R2 Value on Training Data</th>\n",
       "      <th>Mean Absolute Error</th>\n",
       "      <th>Mean Squared Error</th>\n",
       "      <th>Root Mean Squared Error</th>\n",
       "    </tr>\n",
       "  </thead>\n",
       "  <tbody>\n",
       "    <tr>\n",
       "      <th>0</th>\n",
       "      <td>Random Forest</td>\n",
       "      <td>0.4353741557223265</td>\n",
       "      <td>0.9362873026732911</td>\n",
       "      <td>0.244067</td>\n",
       "      <td>0.136372</td>\n",
       "      <td>0.369286</td>\n",
       "    </tr>\n",
       "    <tr>\n",
       "      <th>1</th>\n",
       "      <td>XG Gradient Boost</td>\n",
       "      <td>0.44576198405253287</td>\n",
       "      <td>0.9373006959941828</td>\n",
       "      <td>0.289473</td>\n",
       "      <td>0.140093</td>\n",
       "      <td>0.374290</td>\n",
       "    </tr>\n",
       "  </tbody>\n",
       "</table>\n",
       "</div>"
      ],
      "text/plain": [
       "              Models R2 Value on Test Data R2 Value on Training Data  \\\n",
       "0      Random Forest    0.4353741557223265        0.9362873026732911   \n",
       "1  XG Gradient Boost   0.44576198405253287        0.9373006959941828   \n",
       "\n",
       "   Mean Absolute Error  Mean Squared Error  Root Mean Squared Error  \n",
       "0             0.244067            0.136372                 0.369286  \n",
       "1             0.289473            0.140093                 0.374290  "
      ]
     },
     "execution_count": 218,
     "metadata": {},
     "output_type": "execute_result"
    }
   ],
   "source": [
    "# Evaluating the model performance by comparing the R2 Value on Test Data and Training Data, for the various models implemented.\n",
    "df_R2 = pd.DataFrame({\"Models\":['Random Forest','XG Gradient Boost'],\n",
    "                        \"R2 Value on Test Data\":[r2_rf_test,gr_r2_test],\n",
    "                        \"R2 Value on Training Data\":[r2_rf_train,gr_r2_train],\n",
    "                        \"Mean Absolute Error\":[metrics.mean_absolute_error(y_test, test_pred_rf),\n",
    "                                               metrics.mean_absolute_error(y_test, test_pred_gr)],                   \n",
    "                        \"Mean Squared Error\":[metrics.mean_squared_error(y_test, test_pred_rf),\n",
    "                                              metrics.mean_squared_error(y_test, test_pred_gr)],\n",
    "                        \"Root Mean Squared Error\":[np.sqrt(metrics.mean_squared_error(y_test, test_pred_rf)),\n",
    "                                                   np.sqrt(metrics.mean_squared_error(y_test, test_pred_gr))]})\n",
    "df_R2"
   ]
  },
  {
   "cell_type": "code",
   "execution_count": 219,
   "metadata": {},
   "outputs": [
    {
     "data": {
      "text/html": [
       "<div>\n",
       "<style scoped>\n",
       "    .dataframe tbody tr th:only-of-type {\n",
       "        vertical-align: middle;\n",
       "    }\n",
       "\n",
       "    .dataframe tbody tr th {\n",
       "        vertical-align: top;\n",
       "    }\n",
       "\n",
       "    .dataframe thead th {\n",
       "        text-align: right;\n",
       "    }\n",
       "</style>\n",
       "<table border=\"1\" class=\"dataframe\">\n",
       "  <thead>\n",
       "    <tr style=\"text-align: right;\">\n",
       "      <th></th>\n",
       "      <th>age</th>\n",
       "      <th>bmi</th>\n",
       "      <th>steps</th>\n",
       "      <th>smoker</th>\n",
       "      <th>charges</th>\n",
       "    </tr>\n",
       "  </thead>\n",
       "  <tbody>\n",
       "    <tr>\n",
       "      <th>0</th>\n",
       "      <td>67</td>\n",
       "      <td>28</td>\n",
       "      <td>1855</td>\n",
       "      <td>1</td>\n",
       "      <td>17599.54</td>\n",
       "    </tr>\n",
       "  </tbody>\n",
       "</table>\n",
       "</div>"
      ],
      "text/plain": [
       "   age  bmi  steps  smoker   charges\n",
       "0   67   28   1855       1  17599.54"
      ]
     },
     "execution_count": 219,
     "metadata": {},
     "output_type": "execute_result"
    }
   ],
   "source": [
    "# Predicting the Insurance Claim for a New Customer.\n",
    "data_new = {'age' : 67, 'bmi' : 28, 'steps' : 1855, 'smoker' : 1, 'charges' : 17599.54}\n",
    "df_new = pd.DataFrame(data_new,index=[0])\n",
    "df_new"
   ]
  },
  {
   "cell_type": "code",
   "execution_count": 220,
   "metadata": {},
   "outputs": [
    {
     "name": "stdout",
     "output_type": "stream",
     "text": [
      "\n",
      "The chances of Insurance Claim for the new customer is :  0.7179530922008845\n"
     ]
    }
   ],
   "source": [
    "new_pred = gr2.predict(df_new)\n",
    "print(\"\\nThe chances of Insurance Claim for the new customer is : \", new_pred[0])"
   ]
  },
  {
   "cell_type": "markdown",
   "metadata": {},
   "source": [
    "# Graphical User Interface"
   ]
  },
  {
   "cell_type": "code",
   "execution_count": 228,
   "metadata": {},
   "outputs": [
    {
     "data": {
      "text/plain": [
       "array([0.93342624, 1.00867677, 0.29914308, ..., 0.96258323, 0.16517882,\n",
       "       0.95435391])"
      ]
     },
     "execution_count": 228,
     "metadata": {},
     "output_type": "execute_result"
    }
   ],
   "source": [
    "import joblib\n",
    "joblib.dump(gr2, \"model_joblib_gr\")\n",
    "model = joblib.load(\"model_joblib_gr\")\n",
    "model.predict(data_trunc_2)"
   ]
  },
  {
   "cell_type": "code",
   "execution_count": 229,
   "metadata": {},
   "outputs": [],
   "source": [
    "from tkinter import *\n",
    "import joblib"
   ]
  },
  {
   "cell_type": "code",
   "execution_count": null,
   "metadata": {},
   "outputs": [],
   "source": [
    "# def show_entry():\n",
    "    \n",
    "    p1 = float(e1.get())\n",
    "    p2 = float(e2.get())\n",
    "    p3 = float(e3.get())\n",
    "    p4 = float(e4.get())\n",
    "    p5 = float(e5.get())\n",
    "    \n",
    "    model = joblib.load(\"model_joblib_gr\")\n",
    "    result = model.predict([[p1, p2, p3, p4, p5]])\n",
    "    \n",
    "    Label(master, text = \"Insurance Claim Chances\").grid(row = 7)\n",
    "    Label(master, text = result).grid(row = 8)\n",
    "\n",
    "master = Tk()\n",
    "master.title(\"Insurance Claim Predictor\")\n",
    "label = Label(master, text = \"Enter your details below:\", bg = \"grey\", fg = \"white\").grid(row = 0, columnspan = 2)\n",
    "\n",
    "Label(master, text = \"Age\").grid(row = 1)\n",
    "Label(master, text = \"BMI\").grid(row = 2)\n",
    "Label(master, text = \"Number of Steps\").grid(row = 3)\n",
    "Label(master, text = \"Smoker/Non-Smoker - 0/1\").grid(row = 4)\n",
    "Label(master, text = \"Insurance Charges\").grid(row = 5)\n",
    "\n",
    "e1 = Entry(master)\n",
    "e2 = Entry(master)\n",
    "e3 = Entry(master)\n",
    "e4 = Entry(master)\n",
    "e5 = Entry(master)\n",
    "\n",
    "e1.grid(row = 1, column = 1)\n",
    "e2.grid(row = 2, column = 1)\n",
    "e3.grid(row = 3, column = 1)\n",
    "e4.grid(row = 4, column = 1)\n",
    "e5.grid(row = 5, column = 1)\n",
    "\n",
    "\n",
    "Button(master, text = \"Calculate\", command = show_entry).grid()\n",
    "mainloop()"
   ]
  }
 ],
 "metadata": {
  "kernelspec": {
   "display_name": "Python 3",
   "language": "python",
   "name": "python3"
  },
  "language_info": {
   "codemirror_mode": {
    "name": "ipython",
    "version": 3
   },
   "file_extension": ".py",
   "mimetype": "text/x-python",
   "name": "python",
   "nbconvert_exporter": "python",
   "pygments_lexer": "ipython3",
   "version": "3.8.5"
  }
 },
 "nbformat": 4,
 "nbformat_minor": 5
}
